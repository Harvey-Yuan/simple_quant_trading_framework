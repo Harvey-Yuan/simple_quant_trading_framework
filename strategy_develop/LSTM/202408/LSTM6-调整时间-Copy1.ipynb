{
 "cells": [
  {
   "cell_type": "markdown",
   "id": "0f407c5b",
   "metadata": {},
   "source": [
    "# 数据预处理"
   ]
  },
  {
   "cell_type": "code",
   "execution_count": 155,
   "id": "8db382eb",
   "metadata": {},
   "outputs": [],
   "source": [
    "from sklearn.preprocessing import MinMaxScaler\n",
    "import numpy as np\n",
    "import pandas as pd\n",
    "from sklearn.model_selection import train_test_split\n",
    "from sklearn.linear_model import LinearRegression\n",
    "from sklearn.metrics import mean_squared_error\n",
    "import numpy as np\n",
    "from keras.models import Sequential\n",
    "from keras.layers import Dense, LSTM\n",
    "from keras.optimizers.legacy import Adam\n",
    "from datetime import datetime\n",
    "from keras.callbacks import EarlyStopping\n",
    "import pandas as pd\n",
    "import numpy as np\n",
    "import matplotlib.pyplot as plt\n",
    "from tensorflow.keras.layers import Input, LSTM, Dense, Attention, Concatenate, Permute, Reshape, Multiply\n",
    "from tensorflow.keras.models import Model\n",
    "import tensorflow as tf\n",
    "from keras.layers import Dense, LSTM, Dropout"
   ]
  },
  {
   "cell_type": "code",
   "execution_count": 156,
   "id": "bb14a31d",
   "metadata": {},
   "outputs": [],
   "source": [
    "df = pd.read_csv('/Users/harvey/Desktop/quant2/FE/hourly_data_20240305.csv')"
   ]
  },
  {
   "cell_type": "code",
   "execution_count": 157,
   "id": "16475ec9",
   "metadata": {},
   "outputs": [],
   "source": [
    "# 找到第一个空值出现的位置\n",
    "first_null_position = df.isnull().any(axis=1).idxmin()"
   ]
  },
  {
   "cell_type": "code",
   "execution_count": 158,
   "id": "760a8d6b",
   "metadata": {},
   "outputs": [],
   "source": [
    "df = df[first_null_position:]"
   ]
  },
  {
   "cell_type": "code",
   "execution_count": 159,
   "id": "3e6847bc",
   "metadata": {},
   "outputs": [],
   "source": [
    "df = df.set_index('Date')"
   ]
  },
  {
   "cell_type": "code",
   "execution_count": 160,
   "id": "fed3ba61",
   "metadata": {},
   "outputs": [
    {
     "data": {
      "text/plain": [
       "False"
      ]
     },
     "execution_count": 160,
     "metadata": {},
     "output_type": "execute_result"
    }
   ],
   "source": [
    "df.isnull().values.any()"
   ]
  },
  {
   "cell_type": "code",
   "execution_count": null,
   "id": "fad8b0ac",
   "metadata": {},
   "outputs": [],
   "source": []
  },
  {
   "cell_type": "code",
   "execution_count": 161,
   "id": "bd5c2886",
   "metadata": {},
   "outputs": [
    {
     "data": {
      "text/html": [
       "<div>\n",
       "<style scoped>\n",
       "    .dataframe tbody tr th:only-of-type {\n",
       "        vertical-align: middle;\n",
       "    }\n",
       "\n",
       "    .dataframe tbody tr th {\n",
       "        vertical-align: top;\n",
       "    }\n",
       "\n",
       "    .dataframe thead th {\n",
       "        text-align: right;\n",
       "    }\n",
       "</style>\n",
       "<table border=\"1\" class=\"dataframe\">\n",
       "  <thead>\n",
       "    <tr style=\"text-align: right;\">\n",
       "      <th></th>\n",
       "      <th>open</th>\n",
       "      <th>high</th>\n",
       "      <th>low</th>\n",
       "      <th>close</th>\n",
       "      <th>volume</th>\n",
       "      <th>SMA_5</th>\n",
       "      <th>SMA_10</th>\n",
       "      <th>SMA_20</th>\n",
       "      <th>SMA_50</th>\n",
       "      <th>SMA_100</th>\n",
       "      <th>...</th>\n",
       "      <th>Momentum_20</th>\n",
       "      <th>Momentum_50</th>\n",
       "      <th>Momentum_100</th>\n",
       "      <th>day_Friday</th>\n",
       "      <th>day_Monday</th>\n",
       "      <th>day_Thursday</th>\n",
       "      <th>day_Tuesday</th>\n",
       "      <th>day_Wednesday</th>\n",
       "      <th>week_of_year</th>\n",
       "      <th>hour_of_day</th>\n",
       "    </tr>\n",
       "    <tr>\n",
       "      <th>Date</th>\n",
       "      <th></th>\n",
       "      <th></th>\n",
       "      <th></th>\n",
       "      <th></th>\n",
       "      <th></th>\n",
       "      <th></th>\n",
       "      <th></th>\n",
       "      <th></th>\n",
       "      <th></th>\n",
       "      <th></th>\n",
       "      <th></th>\n",
       "      <th></th>\n",
       "      <th></th>\n",
       "      <th></th>\n",
       "      <th></th>\n",
       "      <th></th>\n",
       "      <th></th>\n",
       "      <th></th>\n",
       "      <th></th>\n",
       "      <th></th>\n",
       "      <th></th>\n",
       "    </tr>\n",
       "  </thead>\n",
       "  <tbody>\n",
       "    <tr>\n",
       "      <th>2022-03-23 04:00:00-04:00</th>\n",
       "      <td>357.200000</td>\n",
       "      <td>357.300000</td>\n",
       "      <td>356.010000</td>\n",
       "      <td>356.100000</td>\n",
       "      <td>0</td>\n",
       "      <td>356.871000</td>\n",
       "      <td>356.526500</td>\n",
       "      <td>354.136189</td>\n",
       "      <td>350.952273</td>\n",
       "      <td>342.963238</td>\n",
       "      <td>...</td>\n",
       "      <td>5.510000</td>\n",
       "      <td>14.200000</td>\n",
       "      <td>38.080000</td>\n",
       "      <td>False</td>\n",
       "      <td>False</td>\n",
       "      <td>False</td>\n",
       "      <td>False</td>\n",
       "      <td>True</td>\n",
       "      <td>12</td>\n",
       "      <td>4</td>\n",
       "    </tr>\n",
       "    <tr>\n",
       "      <th>2022-03-23 05:00:00-04:00</th>\n",
       "      <td>356.100000</td>\n",
       "      <td>356.640000</td>\n",
       "      <td>356.070000</td>\n",
       "      <td>356.180000</td>\n",
       "      <td>0</td>\n",
       "      <td>356.711000</td>\n",
       "      <td>356.604501</td>\n",
       "      <td>354.440189</td>\n",
       "      <td>351.234673</td>\n",
       "      <td>343.332338</td>\n",
       "      <td>...</td>\n",
       "      <td>6.080000</td>\n",
       "      <td>14.120000</td>\n",
       "      <td>36.910000</td>\n",
       "      <td>False</td>\n",
       "      <td>False</td>\n",
       "      <td>False</td>\n",
       "      <td>False</td>\n",
       "      <td>True</td>\n",
       "      <td>12</td>\n",
       "      <td>5</td>\n",
       "    </tr>\n",
       "    <tr>\n",
       "      <th>2022-03-23 06:00:00-04:00</th>\n",
       "      <td>356.150000</td>\n",
       "      <td>356.150000</td>\n",
       "      <td>355.080000</td>\n",
       "      <td>355.080000</td>\n",
       "      <td>0</td>\n",
       "      <td>356.376000</td>\n",
       "      <td>356.533500</td>\n",
       "      <td>354.723189</td>\n",
       "      <td>351.508873</td>\n",
       "      <td>343.687338</td>\n",
       "      <td>...</td>\n",
       "      <td>5.660000</td>\n",
       "      <td>13.710000</td>\n",
       "      <td>35.500000</td>\n",
       "      <td>False</td>\n",
       "      <td>False</td>\n",
       "      <td>False</td>\n",
       "      <td>False</td>\n",
       "      <td>True</td>\n",
       "      <td>12</td>\n",
       "      <td>6</td>\n",
       "    </tr>\n",
       "    <tr>\n",
       "      <th>2022-03-23 07:00:00-04:00</th>\n",
       "      <td>355.050000</td>\n",
       "      <td>355.410000</td>\n",
       "      <td>354.430000</td>\n",
       "      <td>354.490000</td>\n",
       "      <td>0</td>\n",
       "      <td>355.828000</td>\n",
       "      <td>356.374501</td>\n",
       "      <td>354.881189</td>\n",
       "      <td>351.762273</td>\n",
       "      <td>344.022938</td>\n",
       "      <td>...</td>\n",
       "      <td>3.160000</td>\n",
       "      <td>12.670000</td>\n",
       "      <td>33.560000</td>\n",
       "      <td>False</td>\n",
       "      <td>False</td>\n",
       "      <td>False</td>\n",
       "      <td>False</td>\n",
       "      <td>True</td>\n",
       "      <td>12</td>\n",
       "      <td>7</td>\n",
       "    </tr>\n",
       "    <tr>\n",
       "      <th>2022-03-23 08:00:00-04:00</th>\n",
       "      <td>354.490000</td>\n",
       "      <td>357.250000</td>\n",
       "      <td>354.000000</td>\n",
       "      <td>354.570000</td>\n",
       "      <td>0</td>\n",
       "      <td>355.284000</td>\n",
       "      <td>356.165501</td>\n",
       "      <td>355.049189</td>\n",
       "      <td>351.998473</td>\n",
       "      <td>344.334138</td>\n",
       "      <td>...</td>\n",
       "      <td>3.360000</td>\n",
       "      <td>11.810000</td>\n",
       "      <td>31.119988</td>\n",
       "      <td>False</td>\n",
       "      <td>False</td>\n",
       "      <td>False</td>\n",
       "      <td>False</td>\n",
       "      <td>True</td>\n",
       "      <td>12</td>\n",
       "      <td>8</td>\n",
       "    </tr>\n",
       "    <tr>\n",
       "      <th>...</th>\n",
       "      <td>...</td>\n",
       "      <td>...</td>\n",
       "      <td>...</td>\n",
       "      <td>...</td>\n",
       "      <td>...</td>\n",
       "      <td>...</td>\n",
       "      <td>...</td>\n",
       "      <td>...</td>\n",
       "      <td>...</td>\n",
       "      <td>...</td>\n",
       "      <td>...</td>\n",
       "      <td>...</td>\n",
       "      <td>...</td>\n",
       "      <td>...</td>\n",
       "      <td>...</td>\n",
       "      <td>...</td>\n",
       "      <td>...</td>\n",
       "      <td>...</td>\n",
       "      <td>...</td>\n",
       "      <td>...</td>\n",
       "      <td>...</td>\n",
       "    </tr>\n",
       "    <tr>\n",
       "      <th>2024-03-05 08:00:00-05:00</th>\n",
       "      <td>441.338700</td>\n",
       "      <td>444.020000</td>\n",
       "      <td>440.410400</td>\n",
       "      <td>440.910000</td>\n",
       "      <td>0</td>\n",
       "      <td>441.112000</td>\n",
       "      <td>442.506502</td>\n",
       "      <td>443.914011</td>\n",
       "      <td>442.013939</td>\n",
       "      <td>439.220644</td>\n",
       "      <td>...</td>\n",
       "      <td>-5.090000</td>\n",
       "      <td>6.260000</td>\n",
       "      <td>4.490000</td>\n",
       "      <td>False</td>\n",
       "      <td>False</td>\n",
       "      <td>False</td>\n",
       "      <td>True</td>\n",
       "      <td>False</td>\n",
       "      <td>10</td>\n",
       "      <td>8</td>\n",
       "    </tr>\n",
       "    <tr>\n",
       "      <th>2024-03-05 09:00:00-05:00</th>\n",
       "      <td>440.880000</td>\n",
       "      <td>441.200000</td>\n",
       "      <td>440.640000</td>\n",
       "      <td>440.750000</td>\n",
       "      <td>0</td>\n",
       "      <td>441.108000</td>\n",
       "      <td>442.039500</td>\n",
       "      <td>443.674011</td>\n",
       "      <td>442.140739</td>\n",
       "      <td>439.257144</td>\n",
       "      <td>...</td>\n",
       "      <td>-4.800000</td>\n",
       "      <td>6.340000</td>\n",
       "      <td>3.650000</td>\n",
       "      <td>False</td>\n",
       "      <td>False</td>\n",
       "      <td>False</td>\n",
       "      <td>True</td>\n",
       "      <td>False</td>\n",
       "      <td>10</td>\n",
       "      <td>9</td>\n",
       "    </tr>\n",
       "    <tr>\n",
       "      <th>2024-03-05 09:30:00-05:00</th>\n",
       "      <td>440.540009</td>\n",
       "      <td>440.859894</td>\n",
       "      <td>436.570007</td>\n",
       "      <td>436.799988</td>\n",
       "      <td>14340907</td>\n",
       "      <td>440.269998</td>\n",
       "      <td>441.328499</td>\n",
       "      <td>443.244011</td>\n",
       "      <td>442.190938</td>\n",
       "      <td>439.252443</td>\n",
       "      <td>...</td>\n",
       "      <td>-8.600012</td>\n",
       "      <td>2.509988</td>\n",
       "      <td>-0.470012</td>\n",
       "      <td>False</td>\n",
       "      <td>False</td>\n",
       "      <td>False</td>\n",
       "      <td>True</td>\n",
       "      <td>False</td>\n",
       "      <td>10</td>\n",
       "      <td>9</td>\n",
       "    </tr>\n",
       "    <tr>\n",
       "      <th>2024-03-05 10:30:00-05:00</th>\n",
       "      <td>436.790009</td>\n",
       "      <td>436.899994</td>\n",
       "      <td>435.630005</td>\n",
       "      <td>436.630005</td>\n",
       "      <td>6510190</td>\n",
       "      <td>439.279999</td>\n",
       "      <td>440.632499</td>\n",
       "      <td>442.769511</td>\n",
       "      <td>442.162138</td>\n",
       "      <td>439.249743</td>\n",
       "      <td>...</td>\n",
       "      <td>-9.489995</td>\n",
       "      <td>-1.439995</td>\n",
       "      <td>-0.269995</td>\n",
       "      <td>False</td>\n",
       "      <td>False</td>\n",
       "      <td>False</td>\n",
       "      <td>True</td>\n",
       "      <td>False</td>\n",
       "      <td>10</td>\n",
       "      <td>10</td>\n",
       "    </tr>\n",
       "    <tr>\n",
       "      <th>2024-03-05 11:30:00-05:00</th>\n",
       "      <td>436.619995</td>\n",
       "      <td>436.769989</td>\n",
       "      <td>435.959991</td>\n",
       "      <td>436.040009</td>\n",
       "      <td>836460</td>\n",
       "      <td>438.226000</td>\n",
       "      <td>439.883500</td>\n",
       "      <td>442.279511</td>\n",
       "      <td>442.124939</td>\n",
       "      <td>439.237125</td>\n",
       "      <td>...</td>\n",
       "      <td>-9.799991</td>\n",
       "      <td>-1.859985</td>\n",
       "      <td>-1.261891</td>\n",
       "      <td>False</td>\n",
       "      <td>False</td>\n",
       "      <td>False</td>\n",
       "      <td>True</td>\n",
       "      <td>False</td>\n",
       "      <td>10</td>\n",
       "      <td>11</td>\n",
       "    </tr>\n",
       "  </tbody>\n",
       "</table>\n",
       "<p>8143 rows × 42 columns</p>\n",
       "</div>"
      ],
      "text/plain": [
       "                                 open        high         low       close  \\\n",
       "Date                                                                        \n",
       "2022-03-23 04:00:00-04:00  357.200000  357.300000  356.010000  356.100000   \n",
       "2022-03-23 05:00:00-04:00  356.100000  356.640000  356.070000  356.180000   \n",
       "2022-03-23 06:00:00-04:00  356.150000  356.150000  355.080000  355.080000   \n",
       "2022-03-23 07:00:00-04:00  355.050000  355.410000  354.430000  354.490000   \n",
       "2022-03-23 08:00:00-04:00  354.490000  357.250000  354.000000  354.570000   \n",
       "...                               ...         ...         ...         ...   \n",
       "2024-03-05 08:00:00-05:00  441.338700  444.020000  440.410400  440.910000   \n",
       "2024-03-05 09:00:00-05:00  440.880000  441.200000  440.640000  440.750000   \n",
       "2024-03-05 09:30:00-05:00  440.540009  440.859894  436.570007  436.799988   \n",
       "2024-03-05 10:30:00-05:00  436.790009  436.899994  435.630005  436.630005   \n",
       "2024-03-05 11:30:00-05:00  436.619995  436.769989  435.959991  436.040009   \n",
       "\n",
       "                             volume       SMA_5      SMA_10      SMA_20  \\\n",
       "Date                                                                      \n",
       "2022-03-23 04:00:00-04:00         0  356.871000  356.526500  354.136189   \n",
       "2022-03-23 05:00:00-04:00         0  356.711000  356.604501  354.440189   \n",
       "2022-03-23 06:00:00-04:00         0  356.376000  356.533500  354.723189   \n",
       "2022-03-23 07:00:00-04:00         0  355.828000  356.374501  354.881189   \n",
       "2022-03-23 08:00:00-04:00         0  355.284000  356.165501  355.049189   \n",
       "...                             ...         ...         ...         ...   \n",
       "2024-03-05 08:00:00-05:00         0  441.112000  442.506502  443.914011   \n",
       "2024-03-05 09:00:00-05:00         0  441.108000  442.039500  443.674011   \n",
       "2024-03-05 09:30:00-05:00  14340907  440.269998  441.328499  443.244011   \n",
       "2024-03-05 10:30:00-05:00   6510190  439.279999  440.632499  442.769511   \n",
       "2024-03-05 11:30:00-05:00    836460  438.226000  439.883500  442.279511   \n",
       "\n",
       "                               SMA_50     SMA_100  ...  Momentum_20  \\\n",
       "Date                                               ...                \n",
       "2022-03-23 04:00:00-04:00  350.952273  342.963238  ...     5.510000   \n",
       "2022-03-23 05:00:00-04:00  351.234673  343.332338  ...     6.080000   \n",
       "2022-03-23 06:00:00-04:00  351.508873  343.687338  ...     5.660000   \n",
       "2022-03-23 07:00:00-04:00  351.762273  344.022938  ...     3.160000   \n",
       "2022-03-23 08:00:00-04:00  351.998473  344.334138  ...     3.360000   \n",
       "...                               ...         ...  ...          ...   \n",
       "2024-03-05 08:00:00-05:00  442.013939  439.220644  ...    -5.090000   \n",
       "2024-03-05 09:00:00-05:00  442.140739  439.257144  ...    -4.800000   \n",
       "2024-03-05 09:30:00-05:00  442.190938  439.252443  ...    -8.600012   \n",
       "2024-03-05 10:30:00-05:00  442.162138  439.249743  ...    -9.489995   \n",
       "2024-03-05 11:30:00-05:00  442.124939  439.237125  ...    -9.799991   \n",
       "\n",
       "                           Momentum_50  Momentum_100  day_Friday  day_Monday  \\\n",
       "Date                                                                           \n",
       "2022-03-23 04:00:00-04:00    14.200000     38.080000       False       False   \n",
       "2022-03-23 05:00:00-04:00    14.120000     36.910000       False       False   \n",
       "2022-03-23 06:00:00-04:00    13.710000     35.500000       False       False   \n",
       "2022-03-23 07:00:00-04:00    12.670000     33.560000       False       False   \n",
       "2022-03-23 08:00:00-04:00    11.810000     31.119988       False       False   \n",
       "...                                ...           ...         ...         ...   \n",
       "2024-03-05 08:00:00-05:00     6.260000      4.490000       False       False   \n",
       "2024-03-05 09:00:00-05:00     6.340000      3.650000       False       False   \n",
       "2024-03-05 09:30:00-05:00     2.509988     -0.470012       False       False   \n",
       "2024-03-05 10:30:00-05:00    -1.439995     -0.269995       False       False   \n",
       "2024-03-05 11:30:00-05:00    -1.859985     -1.261891       False       False   \n",
       "\n",
       "                           day_Thursday  day_Tuesday  day_Wednesday  \\\n",
       "Date                                                                  \n",
       "2022-03-23 04:00:00-04:00         False        False           True   \n",
       "2022-03-23 05:00:00-04:00         False        False           True   \n",
       "2022-03-23 06:00:00-04:00         False        False           True   \n",
       "2022-03-23 07:00:00-04:00         False        False           True   \n",
       "2022-03-23 08:00:00-04:00         False        False           True   \n",
       "...                                 ...          ...            ...   \n",
       "2024-03-05 08:00:00-05:00         False         True          False   \n",
       "2024-03-05 09:00:00-05:00         False         True          False   \n",
       "2024-03-05 09:30:00-05:00         False         True          False   \n",
       "2024-03-05 10:30:00-05:00         False         True          False   \n",
       "2024-03-05 11:30:00-05:00         False         True          False   \n",
       "\n",
       "                           week_of_year  hour_of_day  \n",
       "Date                                                  \n",
       "2022-03-23 04:00:00-04:00            12            4  \n",
       "2022-03-23 05:00:00-04:00            12            5  \n",
       "2022-03-23 06:00:00-04:00            12            6  \n",
       "2022-03-23 07:00:00-04:00            12            7  \n",
       "2022-03-23 08:00:00-04:00            12            8  \n",
       "...                                 ...          ...  \n",
       "2024-03-05 08:00:00-05:00            10            8  \n",
       "2024-03-05 09:00:00-05:00            10            9  \n",
       "2024-03-05 09:30:00-05:00            10            9  \n",
       "2024-03-05 10:30:00-05:00            10           10  \n",
       "2024-03-05 11:30:00-05:00            10           11  \n",
       "\n",
       "[8143 rows x 42 columns]"
      ]
     },
     "execution_count": 161,
     "metadata": {},
     "output_type": "execute_result"
    }
   ],
   "source": [
    "df"
   ]
  },
  {
   "cell_type": "markdown",
   "id": "8a64e3dc",
   "metadata": {},
   "source": [
    "# 普通预测"
   ]
  },
  {
   "cell_type": "code",
   "execution_count": 339,
   "id": "e2867a5a",
   "metadata": {},
   "outputs": [
    {
     "name": "stdout",
     "output_type": "stream",
     "text": [
      "Epoch 1/100\n",
      "126/126 [==============================] - 6s 34ms/step - loss: 0.0064 - val_loss: 7.0846e-04\n",
      "Epoch 2/100\n",
      "126/126 [==============================] - 4s 32ms/step - loss: 2.4597e-04 - val_loss: 4.5493e-04\n",
      "Epoch 3/100\n",
      "126/126 [==============================] - 4s 32ms/step - loss: 1.8810e-04 - val_loss: 7.6797e-04\n",
      "Epoch 4/100\n",
      "126/126 [==============================] - 4s 32ms/step - loss: 1.7657e-04 - val_loss: 1.3754e-04\n",
      "Epoch 5/100\n",
      "126/126 [==============================] - 4s 32ms/step - loss: 1.5145e-04 - val_loss: 1.1226e-04\n",
      "Epoch 6/100\n",
      "126/126 [==============================] - 4s 32ms/step - loss: 1.4604e-04 - val_loss: 1.3865e-04\n",
      "Epoch 7/100\n",
      "126/126 [==============================] - 4s 32ms/step - loss: 1.4062e-04 - val_loss: 6.0330e-04\n",
      "Epoch 8/100\n",
      "126/126 [==============================] - 4s 32ms/step - loss: 1.6491e-04 - val_loss: 2.2346e-04\n",
      "3/3 [==============================] - 0s 5ms/step\n",
      "252/252 [==============================] - 2s 6ms/step\n"
     ]
    }
   ],
   "source": [
    "from sklearn.preprocessing import MinMaxScaler\n",
    "import numpy as np\n",
    "from keras.models import Sequential\n",
    "from keras.layers import Dense, LSTM\n",
    "\n",
    "# 假设 df 是您的 DataFrame\n",
    "\n",
    "# 数据准备\n",
    "features = df.drop(['close', 'open', 'high', 'low'], axis=1)\n",
    "scaler_features = MinMaxScaler(feature_range=(0, 1))\n",
    "scaled_features = scaler_features.fit_transform(features)\n",
    "\n",
    "scaler_label = MinMaxScaler(feature_range=(0, 1))\n",
    "scaled_close = scaler_label.fit_transform(df[['close']])\n",
    "\n",
    "scaled_features = np.hstack((scaled_features, scaled_close))\n",
    "\n",
    "\n",
    "time_step=16\n",
    "\n",
    "\n",
    "future_step = 1\n",
    "\n",
    "from keras import backend as K\n",
    "\n",
    "\n",
    "\n",
    "\n",
    "# 修改create_dataset以预测未来48个数据点\n",
    "# def create_dataset(data, time_step, future_step):\n",
    "#     X, Y = [], []\n",
    "#     for i in range(len(data) - time_step - future_step):\n",
    "#         a = data[i:(i + time_step), :-1]  # 特征\n",
    "#         X.append(a)\n",
    "#         Y.append(data[(i + time_step):(i + time_step + future_step), -1])  # 'close'列的未来48个数据点\n",
    "#     return np.array(X), np.array(Y)\n",
    "\n",
    "def create_dataset(data, time_step, future_step):\n",
    "    X, Y = [], []\n",
    "    for i in range(len(data) - time_step - future_step):\n",
    "        a = data[i:(i + time_step), :-1]  # 特征\n",
    "        X.append(a)\n",
    "        # 修改这里，只选择未来第future_step个数据点作为输出\n",
    "        Y.append(data[i + time_step + future_step - 1, -1])  # 'close'列的未来第future_step个数据点\n",
    "    return np.array(X), np.array(Y)\n",
    "\n",
    "\n",
    "\n",
    "# 应用修改后的时间步长\n",
    "X, y = create_dataset(scaled_features, time_step=time_step, future_step=future_step)\n",
    "\n",
    "# 划分训练集和测试集\n",
    "split = int(len(X) * 0.99)\n",
    "X_train, X_test = X[:split], X[split:]\n",
    "y_train, y_test = y[:split], y[split:]\n",
    "\n",
    "\n",
    "# model = Sequential([\n",
    "#     LSTM(50, return_sequences=True, input_shape=(X_train.shape[1], X_train.shape[2]), kernel_initializer='glorot_uniform'),\n",
    "#     LSTM(50, return_sequences=False),\n",
    "#     Dense(future_step)\n",
    "# ])\n",
    "\n",
    "model = Sequential([\n",
    "    LSTM(100, return_sequences=True, input_shape=(X_train.shape[1], X_train.shape[2])),\n",
    "    #Dropout(0.2),  # 添加Dropout层，丢弃率为20%\n",
    "    LSTM(100, return_sequences=True),\n",
    "    #Dropout(0.2),  # 再次添加Dropout层\n",
    "    LSTM(100),\n",
    "    Dense(1)  # 修改这里，使模型只输出单一的预测结果\n",
    "])\n",
    "\n",
    "\n",
    "# model = Sequential([\n",
    "#     LSTM(100, return_sequences=False, input_shape=(X_train.shape[1], X_train.shape[2])),\n",
    "#     Dense(1)  # 修改这里，使模型只输出单一的预测结果\n",
    "# ])\n",
    "\n",
    "\n",
    "\n",
    "\n",
    "\n",
    "\n",
    "          \n",
    "\n",
    "# 定义自定义损失函数\n",
    "# def custom_loss(y_true, y_pred):\n",
    "#     y_pred_last = y_pred[:, -1]\n",
    "#     y_true_last = y_true[:, -1]\n",
    "#     return K.mean(K.square(y_pred_last - y_true_last), axis=-1)\n",
    "\n",
    "\n",
    "\n",
    "\n",
    "early_stopping = EarlyStopping(monitor='val_loss', patience=3, restore_best_weights=True)\n",
    "\n",
    "\n",
    "# def custom_loss(y_true, y_pred):\n",
    "#     weights = K.arange(1, K.shape(y_true)[-1] + 1, dtype=K.floatx())  # 加权因子\n",
    "#     mse = K.square(y_pred - y_true)\n",
    "#     weighted_mse = mse * weights  # 加权均方误差\n",
    "#     return K.mean(weighted_mse, axis=-1)\n",
    "\n",
    "optimizer = Adam(learning_rate=0.001, clipvalue=0.5)  # clipvalue是梯度裁剪的阈值\n",
    "model.compile(optimizer=optimizer,loss='mean_squared_error')\n",
    "\n",
    "\n",
    "\n",
    "model.fit(X_train, y_train, validation_data=(X_test, y_test), epochs=100, batch_size=64, verbose=1, callbacks=[early_stopping])\n",
    "\n",
    "\n",
    "# # 第一阶段，使用所有数据训练\n",
    "# model.fit(X_train, y_train, epochs=50, batch_size=64)\n",
    "\n",
    "# # 第二阶段，仅使用最近50%的数据\n",
    "# recent_X_train = X_train[int(len(X_train) * 0.5):]\n",
    "# recent_y_train = y_train[int(len(y_train) * 0.5):]\n",
    "# model.fit(recent_X_train, recent_y_train, epochs=30, batch_size=32)\n",
    "\n",
    "# # 第三阶段，仅使用最近25%的数据进行微调\n",
    "# more_recent_X_train = X_train[int(len(X_train) * 0.75):]\n",
    "# more_recent_y_train = y_train[int(len(y_train) * 0.75):]\n",
    "# model.fit(more_recent_X_train, more_recent_y_train, epochs=20, batch_size=16\n",
    "          \n",
    "          \n",
    "        \n",
    "        \n",
    "\n",
    "# 预测和可视化\n",
    "y_pred = model.predict(X_test)\n",
    "y_train_pred = model.predict(X_train)\n",
    "\n"
   ]
  },
  {
   "cell_type": "code",
   "execution_count": 340,
   "id": "bb7b584f",
   "metadata": {},
   "outputs": [
    {
     "data": {
      "text/plain": [
       "8044"
      ]
     },
     "execution_count": 340,
     "metadata": {},
     "output_type": "execute_result"
    }
   ],
   "source": [
    "len(X_train)"
   ]
  },
  {
   "cell_type": "code",
   "execution_count": 341,
   "id": "894661d3",
   "metadata": {},
   "outputs": [
    {
     "data": {
      "text/plain": [
       "(82, 1)"
      ]
     },
     "execution_count": 341,
     "metadata": {},
     "output_type": "execute_result"
    }
   ],
   "source": [
    "y_pred.shape"
   ]
  },
  {
   "cell_type": "code",
   "execution_count": 342,
   "id": "4081a3ea",
   "metadata": {},
   "outputs": [
    {
     "data": {
      "text/plain": [
       "(82, 16, 38)"
      ]
     },
     "execution_count": 342,
     "metadata": {},
     "output_type": "execute_result"
    }
   ],
   "source": [
    "X_test.shape"
   ]
  },
  {
   "cell_type": "code",
   "execution_count": 343,
   "id": "e6628b09",
   "metadata": {},
   "outputs": [
    {
     "data": {
      "text/plain": [
       "8044"
      ]
     },
     "execution_count": 343,
     "metadata": {},
     "output_type": "execute_result"
    }
   ],
   "source": [
    "len(y_train_pred)"
   ]
  },
  {
   "cell_type": "code",
   "execution_count": 344,
   "id": "7aca838c",
   "metadata": {},
   "outputs": [
    {
     "data": {
      "image/png": "[encoded data removed]",
      "text/plain": [
       "<Figure size 1000x400 with 2 Axes>"
      ]
     },
     "metadata": {},
     "output_type": "display_data"
    }
   ],
   "source": [
    "import tensorflow as tf\n",
    "import numpy as np\n",
    "import matplotlib.pyplot as plt\n",
    "\n",
    "# 确保我们在Eager Execution模式下（TensorFlow 2.x默认启用）\n",
    "assert tf.executing_eagerly()\n",
    "\n",
    "# 将NumPy数组转换为TensorFlow张量\n",
    "sample_to_analyze = tf.convert_to_tensor(X_test[0:1])\n",
    "\n",
    "# 使用GradientTape来记录计算过程，以便自动获取梯度\n",
    "with tf.GradientTape() as tape:\n",
    "    # 将输入数据标记为需要梯度信息的张量\n",
    "    tape.watch(sample_to_analyze)\n",
    "    \n",
    "    # 通过模型前向传播得到预测结果\n",
    "    prediction = model(sample_to_analyze)\n",
    "    \n",
    "# 计算输入相对于预测结果的梯度\n",
    "grads = tape.gradient(prediction, sample_to_analyze)\n",
    "\n",
    "# 梯度的绝对值可以被看作是模型对每个输入特征的重视程度\n",
    "grads_abs = np.abs(grads.numpy())\n",
    "\n",
    "# 可视化\n",
    "plt.figure(figsize=(10, 4))\n",
    "plt.imshow(grads_abs[0], cmap='viridis', aspect='auto')\n",
    "plt.colorbar()\n",
    "plt.ylabel('Time Step')\n",
    "plt.xlabel('Feature')\n",
    "plt.title('Gradient Sensitivity of Features Over Time')\n",
    "plt.show()\n"
   ]
  },
  {
   "cell_type": "code",
   "execution_count": 345,
   "id": "35557299",
   "metadata": {},
   "outputs": [
    {
     "data": {
      "image/png": "[encoded data removed]",
      "text/plain": [
       "<Figure size 1000x600 with 1 Axes>"
      ]
     },
     "metadata": {},
     "output_type": "display_data"
    }
   ],
   "source": [
    "import tensorflow as tf\n",
    "import numpy as np\n",
    "import matplotlib.pyplot as plt\n",
    "\n",
    "# 假设X_test已经是tf.Tensor，如果不是，使用tf.convert_to_tensor转换\n",
    "# 假设features_names包含了除去不参与训练的特征（'close', 'time', 'open', 'high', 'low'）后的所有特征名称\n",
    "features_names = list(features.columns) + ['close']\n",
    "\n",
    "# 选择一个样本进行分析\n",
    "sample_to_analyze = tf.convert_to_tensor(X_test[0:1], dtype=tf.float32)\n",
    "\n",
    "# 使用GradientTape来记录计算过程，以便自动获取梯度\n",
    "with tf.GradientTape() as tape:\n",
    "    tape.watch(sample_to_analyze)\n",
    "    prediction = model(sample_to_analyze)\n",
    "\n",
    "# 计算输入相对于预测结果的梯度\n",
    "grads = tape.gradient(prediction, sample_to_analyze)\n",
    "grads_abs = np.abs(grads.numpy())\n",
    "\n",
    "# 计算每个特征的平均梯度绝对值\n",
    "mean_grads_abs = np.mean(grads_abs, axis=(0,1))\n",
    "\n",
    "# 将特征名称和对应的平均梯度绝对值绑定在一起，然后按梯度绝对值排序\n",
    "features_grads = zip(features_names, mean_grads_abs)\n",
    "sorted_features_grads = sorted(features_grads, key=lambda x: x[1], reverse=True)\n",
    "\n",
    "# 分别解压特征名称和对应的排序后的梯度绝对值\n",
    "sorted_features, sorted_grads = zip(*sorted_features_grads)\n",
    "\n",
    "# 可视化\n",
    "plt.figure(figsize=(10, 6))\n",
    "plt.barh(range(len(sorted_features)), sorted_grads, tick_label=sorted_features)\n",
    "plt.xlabel('Average Absolute Gradient')\n",
    "plt.title('Feature Importance as per Gradient Sensitivity')\n",
    "plt.gca().invert_yaxis()  # 将最重要的特征显示在顶部\n",
    "plt.show()\n"
   ]
  },
  {
   "cell_type": "code",
   "execution_count": 346,
   "id": "1e470ecb",
   "metadata": {},
   "outputs": [
    {
     "data": {
      "text/plain": [
       "(8044, 1)"
      ]
     },
     "execution_count": 346,
     "metadata": {},
     "output_type": "execute_result"
    }
   ],
   "source": [
    "y_train_pred.shape"
   ]
  },
  {
   "cell_type": "code",
   "execution_count": 347,
   "id": "48d68eb4",
   "metadata": {},
   "outputs": [
    {
     "data": {
      "image/png": "[encoded data removed]",
      "text/plain": [
       "<Figure size 1000x600 with 1 Axes>"
      ]
     },
     "metadata": {},
     "output_type": "display_data"
    }
   ],
   "source": [
    "import matplotlib.pyplot as plt\n",
    "\n",
    "# 由于y_pred可能是二维的，且只有一列，我们首先确保它是一维的\n",
    "if y_pred.ndim > 1:\n",
    "    y_pred = y_pred.squeeze()\n",
    "\n",
    "# 逆缩放预测和测试集的数据\n",
    "y_train_pred_rescaled = scaler_label.inverse_transform(y_train_pred.reshape(-1, 1))\n",
    "y_train_rescaled = scaler_label.inverse_transform(y_train.reshape(-1, 1))\n",
    "\n",
    "# 绘制预测值和实际值\n",
    "plt.figure(figsize=(10, 6))  # 可以调整图形大小\n",
    "plt.plot(y_train_pred_rescaled, label='Predicted', color='red')  # 预测值\n",
    "plt.plot(y_train_rescaled, label='Actual', color='blue')  # 实际值\n",
    "plt.title('train set pred')  # 图表标题\n",
    "plt.xlabel('Time')  # X轴标签\n",
    "plt.ylabel('Stock Price')  # Y轴标签\n",
    "plt.legend()  # 显示图例\n",
    "plt.show()\n"
   ]
  },
  {
   "cell_type": "code",
   "execution_count": 348,
   "id": "336f4c55",
   "metadata": {},
   "outputs": [
    {
     "data": {
      "image/png": "[encoded data removed]",
      "text/plain": [
       "<Figure size 1000x600 with 1 Axes>"
      ]
     },
     "metadata": {},
     "output_type": "display_data"
    }
   ],
   "source": [
    "import matplotlib.pyplot as plt\n",
    "\n",
    "# 由于y_pred可能是二维的，且只有一列，我们首先确保它是一维的\n",
    "if y_pred.ndim > 1:\n",
    "    y_pred = y_pred.squeeze()\n",
    "\n",
    "# 逆缩放预测和测试集的数据\n",
    "y_pred_rescaled = scaler_label.inverse_transform(y_pred.reshape(-1, 1))\n",
    "y_test_rescaled = scaler_label.inverse_transform(y_test.reshape(-1, 1))\n",
    "\n",
    "# 绘制预测值和实际值\n",
    "plt.figure(figsize=(10, 6))  # 可以调整图形大小\n",
    "plt.plot(y_pred_rescaled, label='Predicted', color='red')  # 预测值\n",
    "plt.plot(y_test_rescaled, label='Actual', color='blue')  # 实际值\n",
    "plt.title('test set pred')  # 图表标题\n",
    "plt.xlabel('Time')  # X轴标签\n",
    "plt.ylabel('Stock Price')  # Y轴标签\n",
    "plt.legend()  # 显示图例\n",
    "plt.show()\n"
   ]
  },
  {
   "cell_type": "code",
   "execution_count": 349,
   "id": "7bad55d5",
   "metadata": {},
   "outputs": [
    {
     "name": "stdout",
     "output_type": "stream",
     "text": [
      "test set mse:  4.098468367492187\n",
      "train set mse:  6.437546953452458\n"
     ]
    }
   ],
   "source": [
    "print('test set mse: ',mean_squared_error(y_test_rescaled, y_pred_rescaled))\n",
    "print('train set mse: ',mean_squared_error(y_train_rescaled, y_train_pred_rescaled))"
   ]
  },
  {
   "cell_type": "code",
   "execution_count": 350,
   "id": "c37c0575",
   "metadata": {},
   "outputs": [
    {
     "data": {
      "text/plain": [
       "(82, 1)"
      ]
     },
     "execution_count": 350,
     "metadata": {},
     "output_type": "execute_result"
    }
   ],
   "source": [
    "y_pred_rescaled.shape"
   ]
  },
  {
   "cell_type": "code",
   "execution_count": 351,
   "id": "e8e5adc4",
   "metadata": {},
   "outputs": [
    {
     "data": {
      "text/plain": [
       "(82, 1)"
      ]
     },
     "execution_count": 351,
     "metadata": {},
     "output_type": "execute_result"
    }
   ],
   "source": [
    "y_test_rescaled.shape"
   ]
  },
  {
   "cell_type": "markdown",
   "id": "baabf0af",
   "metadata": {},
   "source": [
    "# 计算回报"
   ]
  },
  {
   "cell_type": "code",
   "execution_count": 352,
   "id": "f5bea29f",
   "metadata": {},
   "outputs": [
    {
     "data": {
      "text/plain": [
       "(8044, 16, 38)"
      ]
     },
     "execution_count": 352,
     "metadata": {},
     "output_type": "execute_result"
    }
   ],
   "source": [
    "X_train.shape"
   ]
  },
  {
   "cell_type": "code",
   "execution_count": 353,
   "id": "00be06fd",
   "metadata": {},
   "outputs": [
    {
     "data": {
      "text/plain": [
       "array([[ 0.00000000e+00,  4.37524000e+02,  4.36972000e+02,\n",
       "         4.37236230e+02,  4.37193883e+02,  4.32957819e+02,\n",
       "         4.33207489e+02,  4.37429625e+02,  4.37286619e+02,\n",
       "         4.37160001e+02,  4.36084822e+02,  4.34505520e+02,\n",
       "         4.32441126e+02,  5.02897165e+01,  5.56587194e+01,\n",
       "         4.73536470e+01,  2.31847484e-01,  2.36145225e-01,\n",
       "         4.38548312e+02,  4.35924147e+02,  3.08180081e+01,\n",
       "         3.28005683e+02,  6.81965848e+01,  6.64239221e+01,\n",
       "         1.53364657e+00,  1.50000000e-01,  1.19990234e-01,\n",
       "        -3.00036621e-02,  5.30000000e-01,  3.19900000e+00,\n",
       "         4.50000000e-01,  0.00000000e+00,  0.00000000e+00,\n",
       "         0.00000000e+00,  1.00000000e+00,  0.00000000e+00,\n",
       "         9.00000000e+00,  9.00000000e+00]])"
      ]
     },
     "execution_count": 353,
     "metadata": {},
     "output_type": "execute_result"
    }
   ],
   "source": [
    "scaler_features.inverse_transform(X_test[0,-1,:].reshape(1,-1))"
   ]
  },
  {
   "cell_type": "code",
   "execution_count": 354,
   "id": "c4eb4428",
   "metadata": {},
   "outputs": [],
   "source": [
    "test_start_position_direct = len(y_train)+time_step - 1"
   ]
  },
  {
   "cell_type": "code",
   "execution_count": 355,
   "id": "760db6fa",
   "metadata": {},
   "outputs": [],
   "source": [
    "test_df = df.iloc[test_start_position_direct:test_start_position_direct+len(y_test)]"
   ]
  },
  {
   "cell_type": "code",
   "execution_count": 356,
   "id": "3e9ad070",
   "metadata": {},
   "outputs": [
    {
     "name": "stderr",
     "output_type": "stream",
     "text": [
      "/var/folders/t2/vmnkmyxs42b6h_fbsdjtsp0c0000gn/T/ipykernel_83268/1096888416.py:1: SettingWithCopyWarning: \n",
      "A value is trying to be set on a copy of a slice from a DataFrame.\n",
      "Try using .loc[row_indexer,col_indexer] = value instead\n",
      "\n",
      "See the caveats in the documentation: https://pandas.pydata.org/pandas-docs/stable/user_guide/indexing.html#returning-a-view-versus-a-copy\n",
      "  test_df['predicted_close_in1h'] = y_pred_rescaled.squeeze()\n",
      "/var/folders/t2/vmnkmyxs42b6h_fbsdjtsp0c0000gn/T/ipykernel_83268/1096888416.py:2: SettingWithCopyWarning: \n",
      "A value is trying to be set on a copy of a slice from a DataFrame.\n",
      "Try using .loc[row_indexer,col_indexer] = value instead\n",
      "\n",
      "See the caveats in the documentation: https://pandas.pydata.org/pandas-docs/stable/user_guide/indexing.html#returning-a-view-versus-a-copy\n",
      "  test_df['actual_close_in1h'] = y_test_rescaled.squeeze()\n"
     ]
    }
   ],
   "source": [
    "test_df['predicted_close_in1h'] = y_pred_rescaled.squeeze()\n",
    "test_df['actual_close_in1h'] = y_test_rescaled.squeeze()"
   ]
  },
  {
   "cell_type": "code",
   "execution_count": 357,
   "id": "d716927d",
   "metadata": {},
   "outputs": [],
   "source": [
    "df_1h_magnify = test_df[['close','actual_close_in1h','predicted_close_in1h']]"
   ]
  },
  {
   "cell_type": "code",
   "execution_count": 358,
   "id": "2286a813",
   "metadata": {},
   "outputs": [
    {
     "data": {
      "text/html": [
       "<div>\n",
       "<style scoped>\n",
       "    .dataframe tbody tr th:only-of-type {\n",
       "        vertical-align: middle;\n",
       "    }\n",
       "\n",
       "    .dataframe tbody tr th {\n",
       "        vertical-align: top;\n",
       "    }\n",
       "\n",
       "    .dataframe thead th {\n",
       "        text-align: right;\n",
       "    }\n",
       "</style>\n",
       "<table border=\"1\" class=\"dataframe\">\n",
       "  <thead>\n",
       "    <tr style=\"text-align: right;\">\n",
       "      <th></th>\n",
       "      <th>close</th>\n",
       "      <th>actual_close_in1h</th>\n",
       "      <th>predicted_close_in1h</th>\n",
       "    </tr>\n",
       "    <tr>\n",
       "      <th>Date</th>\n",
       "      <th></th>\n",
       "      <th></th>\n",
       "      <th></th>\n",
       "    </tr>\n",
       "  </thead>\n",
       "  <tbody>\n",
       "    <tr>\n",
       "      <th>2024-02-27 09:00:00-05:00</th>\n",
       "      <td>437.630000</td>\n",
       "      <td>437.470001</td>\n",
       "      <td>438.488892</td>\n",
       "    </tr>\n",
       "    <tr>\n",
       "      <th>2024-02-27 09:30:00-05:00</th>\n",
       "      <td>437.470001</td>\n",
       "      <td>436.649994</td>\n",
       "      <td>438.522827</td>\n",
       "    </tr>\n",
       "    <tr>\n",
       "      <th>2024-02-27 10:30:00-05:00</th>\n",
       "      <td>436.649994</td>\n",
       "      <td>436.619995</td>\n",
       "      <td>438.429352</td>\n",
       "    </tr>\n",
       "    <tr>\n",
       "      <th>2024-02-27 11:30:00-05:00</th>\n",
       "      <td>436.619995</td>\n",
       "      <td>435.787506</td>\n",
       "      <td>438.238403</td>\n",
       "    </tr>\n",
       "    <tr>\n",
       "      <th>2024-02-27 12:30:00-05:00</th>\n",
       "      <td>435.787506</td>\n",
       "      <td>437.369904</td>\n",
       "      <td>437.821716</td>\n",
       "    </tr>\n",
       "    <tr>\n",
       "      <th>2024-02-27 13:30:00-05:00</th>\n",
       "      <td>437.369904</td>\n",
       "      <td>437.834991</td>\n",
       "      <td>437.608154</td>\n",
       "    </tr>\n",
       "    <tr>\n",
       "      <th>2024-02-27 14:30:00-05:00</th>\n",
       "      <td>437.834991</td>\n",
       "      <td>437.630005</td>\n",
       "      <td>437.606323</td>\n",
       "    </tr>\n",
       "    <tr>\n",
       "      <th>2024-02-27 15:30:00-05:00</th>\n",
       "      <td>437.630005</td>\n",
       "      <td>437.550000</td>\n",
       "      <td>437.622375</td>\n",
       "    </tr>\n",
       "    <tr>\n",
       "      <th>2024-02-27 16:00:00-05:00</th>\n",
       "      <td>437.550000</td>\n",
       "      <td>437.610000</td>\n",
       "      <td>437.634674</td>\n",
       "    </tr>\n",
       "    <tr>\n",
       "      <th>2024-02-27 17:00:00-05:00</th>\n",
       "      <td>437.610000</td>\n",
       "      <td>437.350000</td>\n",
       "      <td>437.627014</td>\n",
       "    </tr>\n",
       "    <tr>\n",
       "      <th>2024-02-27 18:00:00-05:00</th>\n",
       "      <td>437.350000</td>\n",
       "      <td>435.560000</td>\n",
       "      <td>437.569427</td>\n",
       "    </tr>\n",
       "    <tr>\n",
       "      <th>2024-02-28 04:00:00-05:00</th>\n",
       "      <td>435.560000</td>\n",
       "      <td>435.470000</td>\n",
       "      <td>437.197021</td>\n",
       "    </tr>\n",
       "    <tr>\n",
       "      <th>2024-02-28 05:00:00-05:00</th>\n",
       "      <td>435.470000</td>\n",
       "      <td>435.980000</td>\n",
       "      <td>436.615784</td>\n",
       "    </tr>\n",
       "    <tr>\n",
       "      <th>2024-02-28 06:00:00-05:00</th>\n",
       "      <td>435.980000</td>\n",
       "      <td>435.940000</td>\n",
       "      <td>436.024384</td>\n",
       "    </tr>\n",
       "    <tr>\n",
       "      <th>2024-02-28 07:00:00-05:00</th>\n",
       "      <td>435.940000</td>\n",
       "      <td>435.710000</td>\n",
       "      <td>435.582977</td>\n",
       "    </tr>\n",
       "    <tr>\n",
       "      <th>2024-02-28 08:00:00-05:00</th>\n",
       "      <td>435.710000</td>\n",
       "      <td>435.395000</td>\n",
       "      <td>435.097046</td>\n",
       "    </tr>\n",
       "    <tr>\n",
       "      <th>2024-02-28 09:00:00-05:00</th>\n",
       "      <td>435.395000</td>\n",
       "      <td>434.929993</td>\n",
       "      <td>434.706909</td>\n",
       "    </tr>\n",
       "    <tr>\n",
       "      <th>2024-02-28 09:30:00-05:00</th>\n",
       "      <td>434.929993</td>\n",
       "      <td>436.329987</td>\n",
       "      <td>434.287750</td>\n",
       "    </tr>\n",
       "    <tr>\n",
       "      <th>2024-02-28 10:30:00-05:00</th>\n",
       "      <td>436.329987</td>\n",
       "      <td>435.609985</td>\n",
       "      <td>434.117126</td>\n",
       "    </tr>\n",
       "    <tr>\n",
       "      <th>2024-02-28 11:30:00-05:00</th>\n",
       "      <td>435.609985</td>\n",
       "      <td>435.780090</td>\n",
       "      <td>434.110565</td>\n",
       "    </tr>\n",
       "  </tbody>\n",
       "</table>\n",
       "</div>"
      ],
      "text/plain": [
       "                                close  actual_close_in1h  predicted_close_in1h\n",
       "Date                                                                          \n",
       "2024-02-27 09:00:00-05:00  437.630000         437.470001            438.488892\n",
       "2024-02-27 09:30:00-05:00  437.470001         436.649994            438.522827\n",
       "2024-02-27 10:30:00-05:00  436.649994         436.619995            438.429352\n",
       "2024-02-27 11:30:00-05:00  436.619995         435.787506            438.238403\n",
       "2024-02-27 12:30:00-05:00  435.787506         437.369904            437.821716\n",
       "2024-02-27 13:30:00-05:00  437.369904         437.834991            437.608154\n",
       "2024-02-27 14:30:00-05:00  437.834991         437.630005            437.606323\n",
       "2024-02-27 15:30:00-05:00  437.630005         437.550000            437.622375\n",
       "2024-02-27 16:00:00-05:00  437.550000         437.610000            437.634674\n",
       "2024-02-27 17:00:00-05:00  437.610000         437.350000            437.627014\n",
       "2024-02-27 18:00:00-05:00  437.350000         435.560000            437.569427\n",
       "2024-02-28 04:00:00-05:00  435.560000         435.470000            437.197021\n",
       "2024-02-28 05:00:00-05:00  435.470000         435.980000            436.615784\n",
       "2024-02-28 06:00:00-05:00  435.980000         435.940000            436.024384\n",
       "2024-02-28 07:00:00-05:00  435.940000         435.710000            435.582977\n",
       "2024-02-28 08:00:00-05:00  435.710000         435.395000            435.097046\n",
       "2024-02-28 09:00:00-05:00  435.395000         434.929993            434.706909\n",
       "2024-02-28 09:30:00-05:00  434.929993         436.329987            434.287750\n",
       "2024-02-28 10:30:00-05:00  436.329987         435.609985            434.117126\n",
       "2024-02-28 11:30:00-05:00  435.609985         435.780090            434.110565"
      ]
     },
     "execution_count": 358,
     "metadata": {},
     "output_type": "execute_result"
    }
   ],
   "source": [
    "df_1h_magnify.head(20)"
   ]
  },
  {
   "cell_type": "code",
   "execution_count": 359,
   "id": "cd4fd4b3",
   "metadata": {},
   "outputs": [
    {
     "name": "stderr",
     "output_type": "stream",
     "text": [
      "/var/folders/t2/vmnkmyxs42b6h_fbsdjtsp0c0000gn/T/ipykernel_83268/2636791147.py:1: SettingWithCopyWarning: \n",
      "A value is trying to be set on a copy of a slice from a DataFrame.\n",
      "Try using .loc[row_indexer,col_indexer] = value instead\n",
      "\n",
      "See the caveats in the documentation: https://pandas.pydata.org/pandas-docs/stable/user_guide/indexing.html#returning-a-view-versus-a-copy\n",
      "  df_1h_magnify['true_updown_in1h'] = df_1h_magnify['actual_close_in1h']/df_1h_magnify['close'] - 1\n",
      "/var/folders/t2/vmnkmyxs42b6h_fbsdjtsp0c0000gn/T/ipykernel_83268/2636791147.py:2: SettingWithCopyWarning: \n",
      "A value is trying to be set on a copy of a slice from a DataFrame.\n",
      "Try using .loc[row_indexer,col_indexer] = value instead\n",
      "\n",
      "See the caveats in the documentation: https://pandas.pydata.org/pandas-docs/stable/user_guide/indexing.html#returning-a-view-versus-a-copy\n",
      "  df_1h_magnify['predict_updown_in1h'] = df_1h_magnify['predicted_close_in1h']/df_1h_magnify['close'] - 1\n"
     ]
    }
   ],
   "source": [
    "df_1h_magnify['true_updown_in1h'] = df_1h_magnify['actual_close_in1h']/df_1h_magnify['close'] - 1\n",
    "df_1h_magnify['predict_updown_in1h'] = df_1h_magnify['predicted_close_in1h']/df_1h_magnify['close'] - 1"
   ]
  },
  {
   "cell_type": "code",
   "execution_count": 375,
   "id": "b29f4f87",
   "metadata": {},
   "outputs": [
    {
     "data": {
      "text/plain": [
       "82"
      ]
     },
     "execution_count": 375,
     "metadata": {},
     "output_type": "execute_result"
    }
   ],
   "source": [
    "len(df_1h_magnify)"
   ]
  },
  {
   "cell_type": "code",
   "execution_count": 361,
   "id": "c0254f84",
   "metadata": {},
   "outputs": [
    {
     "data": {
      "text/plain": [
       "Date\n",
       "2024-02-27 09:00:00-05:00    False\n",
       "2024-02-27 09:30:00-05:00    False\n",
       "2024-02-27 10:30:00-05:00    False\n",
       "2024-02-27 11:30:00-05:00    False\n",
       "2024-02-27 12:30:00-05:00    False\n",
       "                             ...  \n",
       "2024-03-05 06:00:00-05:00    False\n",
       "2024-03-05 07:00:00-05:00    False\n",
       "2024-03-05 08:00:00-05:00    False\n",
       "2024-03-05 09:00:00-05:00    False\n",
       "2024-03-05 09:30:00-05:00    False\n",
       "Length: 82, dtype: bool"
      ]
     },
     "execution_count": 361,
     "metadata": {},
     "output_type": "execute_result"
    }
   ],
   "source": [
    "df_1h_magnify['close'].shift(-12).round(4) == df_1h_magnify['actual_close_in1h'].round(4)"
   ]
  },
  {
   "cell_type": "code",
   "execution_count": 362,
   "id": "a61d6fd2",
   "metadata": {},
   "outputs": [
    {
     "data": {
      "text/plain": [
       "0.5609756097560976"
      ]
     },
     "execution_count": 362,
     "metadata": {},
     "output_type": "execute_result"
    }
   ],
   "source": [
    "df_1h_magnify = df_1h_magnify.dropna(how='any')\n",
    "\n",
    "df_1h_magnify['direction_same'] = (df_1h_magnify['true_updown_in1h'] * df_1h_magnify['predict_updown_in1h']) > 0\n",
    "\n",
    "# 计算方向相同的次数\n",
    "direction_same_count = df_1h_magnify['direction_same'].sum()\n",
    "\n",
    "direction_same_count/len(df_1h_magnify)"
   ]
  },
  {
   "cell_type": "code",
   "execution_count": 363,
   "id": "9448a502",
   "metadata": {},
   "outputs": [],
   "source": [
    "df_1h_magnify.to_csv('test.csv')"
   ]
  },
  {
   "cell_type": "code",
   "execution_count": 364,
   "id": "4bd6ab6d",
   "metadata": {},
   "outputs": [
    {
     "data": {
      "text/plain": [
       "-0.0033791056091339255"
      ]
     },
     "execution_count": 364,
     "metadata": {},
     "output_type": "execute_result"
    }
   ],
   "source": [
    "df_1h_magnify['true_updown_in1h'].quantile(0.05)"
   ]
  },
  {
   "cell_type": "code",
   "execution_count": 365,
   "id": "15eed241",
   "metadata": {},
   "outputs": [
    {
     "data": {
      "text/plain": [
       "0.0036105103357809264"
      ]
     },
     "execution_count": 365,
     "metadata": {},
     "output_type": "execute_result"
    }
   ],
   "source": [
    "df_1h_magnify['true_updown_in1h'].quantile(0.95)"
   ]
  },
  {
   "cell_type": "code",
   "execution_count": null,
   "id": "290bfec0",
   "metadata": {},
   "outputs": [],
   "source": []
  },
  {
   "cell_type": "code",
   "execution_count": null,
   "id": "56b3700f",
   "metadata": {},
   "outputs": [],
   "source": []
  },
  {
   "cell_type": "code",
   "execution_count": 366,
   "id": "a65212d6",
   "metadata": {},
   "outputs": [
    {
     "data": {
      "text/html": [
       "<div>\n",
       "<style scoped>\n",
       "    .dataframe tbody tr th:only-of-type {\n",
       "        vertical-align: middle;\n",
       "    }\n",
       "\n",
       "    .dataframe tbody tr th {\n",
       "        vertical-align: top;\n",
       "    }\n",
       "\n",
       "    .dataframe thead th {\n",
       "        text-align: right;\n",
       "    }\n",
       "</style>\n",
       "<table border=\"1\" class=\"dataframe\">\n",
       "  <thead>\n",
       "    <tr style=\"text-align: right;\">\n",
       "      <th></th>\n",
       "      <th>close</th>\n",
       "      <th>actual_close_in1h</th>\n",
       "      <th>predicted_close_in1h</th>\n",
       "      <th>true_updown_in1h</th>\n",
       "      <th>predict_updown_in1h</th>\n",
       "      <th>direction_same</th>\n",
       "    </tr>\n",
       "    <tr>\n",
       "      <th>Date</th>\n",
       "      <th></th>\n",
       "      <th></th>\n",
       "      <th></th>\n",
       "      <th></th>\n",
       "      <th></th>\n",
       "      <th></th>\n",
       "    </tr>\n",
       "  </thead>\n",
       "  <tbody>\n",
       "    <tr>\n",
       "      <th>2024-02-27 09:00:00-05:00</th>\n",
       "      <td>437.630000</td>\n",
       "      <td>437.470001</td>\n",
       "      <td>438.488892</td>\n",
       "      <td>-0.000366</td>\n",
       "      <td>0.001963</td>\n",
       "      <td>False</td>\n",
       "    </tr>\n",
       "    <tr>\n",
       "      <th>2024-02-27 09:30:00-05:00</th>\n",
       "      <td>437.470001</td>\n",
       "      <td>436.649994</td>\n",
       "      <td>438.522827</td>\n",
       "      <td>-0.001874</td>\n",
       "      <td>0.002407</td>\n",
       "      <td>False</td>\n",
       "    </tr>\n",
       "    <tr>\n",
       "      <th>2024-02-27 10:30:00-05:00</th>\n",
       "      <td>436.649994</td>\n",
       "      <td>436.619995</td>\n",
       "      <td>438.429352</td>\n",
       "      <td>-0.000069</td>\n",
       "      <td>0.004075</td>\n",
       "      <td>False</td>\n",
       "    </tr>\n",
       "    <tr>\n",
       "      <th>2024-02-27 11:30:00-05:00</th>\n",
       "      <td>436.619995</td>\n",
       "      <td>435.787506</td>\n",
       "      <td>438.238403</td>\n",
       "      <td>-0.001907</td>\n",
       "      <td>0.003707</td>\n",
       "      <td>False</td>\n",
       "    </tr>\n",
       "    <tr>\n",
       "      <th>2024-02-27 12:30:00-05:00</th>\n",
       "      <td>435.787506</td>\n",
       "      <td>437.369904</td>\n",
       "      <td>437.821716</td>\n",
       "      <td>0.003631</td>\n",
       "      <td>0.004668</td>\n",
       "      <td>True</td>\n",
       "    </tr>\n",
       "    <tr>\n",
       "      <th>...</th>\n",
       "      <td>...</td>\n",
       "      <td>...</td>\n",
       "      <td>...</td>\n",
       "      <td>...</td>\n",
       "      <td>...</td>\n",
       "      <td>...</td>\n",
       "    </tr>\n",
       "    <tr>\n",
       "      <th>2024-03-05 06:00:00-05:00</th>\n",
       "      <td>441.580000</td>\n",
       "      <td>441.310000</td>\n",
       "      <td>443.389069</td>\n",
       "      <td>-0.000611</td>\n",
       "      <td>0.004097</td>\n",
       "      <td>False</td>\n",
       "    </tr>\n",
       "    <tr>\n",
       "      <th>2024-03-05 07:00:00-05:00</th>\n",
       "      <td>441.310000</td>\n",
       "      <td>440.910000</td>\n",
       "      <td>443.069977</td>\n",
       "      <td>-0.000906</td>\n",
       "      <td>0.003988</td>\n",
       "      <td>False</td>\n",
       "    </tr>\n",
       "    <tr>\n",
       "      <th>2024-03-05 08:00:00-05:00</th>\n",
       "      <td>440.910000</td>\n",
       "      <td>440.750000</td>\n",
       "      <td>442.720459</td>\n",
       "      <td>-0.000363</td>\n",
       "      <td>0.004106</td>\n",
       "      <td>False</td>\n",
       "    </tr>\n",
       "    <tr>\n",
       "      <th>2024-03-05 09:00:00-05:00</th>\n",
       "      <td>440.750000</td>\n",
       "      <td>436.799988</td>\n",
       "      <td>442.314178</td>\n",
       "      <td>-0.008962</td>\n",
       "      <td>0.003549</td>\n",
       "      <td>False</td>\n",
       "    </tr>\n",
       "    <tr>\n",
       "      <th>2024-03-05 09:30:00-05:00</th>\n",
       "      <td>436.799988</td>\n",
       "      <td>436.630005</td>\n",
       "      <td>441.634827</td>\n",
       "      <td>-0.000389</td>\n",
       "      <td>0.011069</td>\n",
       "      <td>False</td>\n",
       "    </tr>\n",
       "  </tbody>\n",
       "</table>\n",
       "<p>82 rows × 6 columns</p>\n",
       "</div>"
      ],
      "text/plain": [
       "                                close  actual_close_in1h  \\\n",
       "Date                                                       \n",
       "2024-02-27 09:00:00-05:00  437.630000         437.470001   \n",
       "2024-02-27 09:30:00-05:00  437.470001         436.649994   \n",
       "2024-02-27 10:30:00-05:00  436.649994         436.619995   \n",
       "2024-02-27 11:30:00-05:00  436.619995         435.787506   \n",
       "2024-02-27 12:30:00-05:00  435.787506         437.369904   \n",
       "...                               ...                ...   \n",
       "2024-03-05 06:00:00-05:00  441.580000         441.310000   \n",
       "2024-03-05 07:00:00-05:00  441.310000         440.910000   \n",
       "2024-03-05 08:00:00-05:00  440.910000         440.750000   \n",
       "2024-03-05 09:00:00-05:00  440.750000         436.799988   \n",
       "2024-03-05 09:30:00-05:00  436.799988         436.630005   \n",
       "\n",
       "                           predicted_close_in1h  true_updown_in1h  \\\n",
       "Date                                                                \n",
       "2024-02-27 09:00:00-05:00            438.488892         -0.000366   \n",
       "2024-02-27 09:30:00-05:00            438.522827         -0.001874   \n",
       "2024-02-27 10:30:00-05:00            438.429352         -0.000069   \n",
       "2024-02-27 11:30:00-05:00            438.238403         -0.001907   \n",
       "2024-02-27 12:30:00-05:00            437.821716          0.003631   \n",
       "...                                         ...               ...   \n",
       "2024-03-05 06:00:00-05:00            443.389069         -0.000611   \n",
       "2024-03-05 07:00:00-05:00            443.069977         -0.000906   \n",
       "2024-03-05 08:00:00-05:00            442.720459         -0.000363   \n",
       "2024-03-05 09:00:00-05:00            442.314178         -0.008962   \n",
       "2024-03-05 09:30:00-05:00            441.634827         -0.000389   \n",
       "\n",
       "                           predict_updown_in1h  direction_same  \n",
       "Date                                                            \n",
       "2024-02-27 09:00:00-05:00             0.001963           False  \n",
       "2024-02-27 09:30:00-05:00             0.002407           False  \n",
       "2024-02-27 10:30:00-05:00             0.004075           False  \n",
       "2024-02-27 11:30:00-05:00             0.003707           False  \n",
       "2024-02-27 12:30:00-05:00             0.004668            True  \n",
       "...                                        ...             ...  \n",
       "2024-03-05 06:00:00-05:00             0.004097           False  \n",
       "2024-03-05 07:00:00-05:00             0.003988           False  \n",
       "2024-03-05 08:00:00-05:00             0.004106           False  \n",
       "2024-03-05 09:00:00-05:00             0.003549           False  \n",
       "2024-03-05 09:30:00-05:00             0.011069           False  \n",
       "\n",
       "[82 rows x 6 columns]"
      ]
     },
     "execution_count": 366,
     "metadata": {},
     "output_type": "execute_result"
    }
   ],
   "source": [
    "df_1h_magnify"
   ]
  },
  {
   "cell_type": "markdown",
   "id": "dee69309",
   "metadata": {},
   "source": [
    "# 模型表现"
   ]
  },
  {
   "cell_type": "code",
   "execution_count": 367,
   "id": "65933bd2",
   "metadata": {},
   "outputs": [],
   "source": [
    "#config\n",
    "\n",
    "buy_threshold = 0.005\n",
    "sell_threshold = -0.005"
   ]
  },
  {
   "cell_type": "code",
   "execution_count": 368,
   "id": "59031838",
   "metadata": {},
   "outputs": [],
   "source": [
    "# 初始化资金和仓位\n",
    "initial_capital = 1000\n",
    "buy_unit = 1000\n",
    "capital = initial_capital\n",
    "waiting_period_set = 1\n",
    "position = 0  # 当前仓位，正数为持有，负数为卖空\n",
    "trade_count = 0  # 交易次数\n",
    "waiting_period = 0  # 等待期间的计数器，用于自动平仓\n",
    "capital_list = []\n",
    "total_asset_list = []  # 资产总价值列表\n",
    "trade_signals = [0] * len(df_1h_magnify)\n",
    "\n",
    "\n",
    "for i, (index, row) in enumerate(df_1h_magnify.iterrows()):\n",
    "    \n",
    "    predict_change_rate = row['predict_updown_in1h']\n",
    "    \n",
    "    # 每五分钟检查一次，如果有持仓且等待期间到了，自动平仓\n",
    "    if waiting_period > 0:\n",
    "        waiting_period -= 1\n",
    "        if waiting_period == 0 and position != 0:\n",
    "            capital += position * row['close']\n",
    "            position = 0  # 清仓\n",
    "\n",
    "    # 买入信号处理\n",
    "    if predict_change_rate > buy_threshold:\n",
    "    #if predict_change_rate < sell_threshold:\n",
    "\n",
    "        trade_signals[i] = 1  # 买入信号\n",
    "        if position <= 0:  # 如果仓位为负或为0，则买入\n",
    "            if position < 0:\n",
    "                # 如果已有持仓，则先平仓\n",
    "                capital += position * row['close']\n",
    "            # 买入\n",
    "            position = buy_unit / row['close']\n",
    "            capital -= position * row['close']\n",
    "            waiting_period = waiting_period_set  # 设置等待期间为12个时间点，即一个小时\n",
    "            trade_count += 1\n",
    "        else:\n",
    "            # 仓位为正，重置等待期间\n",
    "            waiting_period = waiting_period_set\n",
    "\n",
    "    # 卖出信号处理\n",
    "    elif predict_change_rate < sell_threshold:\n",
    "    #elif predict_change_rate > buy_threshold:\n",
    "        \n",
    "        trade_signals[i] = -1  # 卖出信号\n",
    "        if position >= 0:  # 如果仓位为正或为0，则卖空\n",
    "            if position > 0:\n",
    "                # 如果已有持仓，则先平仓\n",
    "                capital += position * row['close']\n",
    "            # 卖空\n",
    "            position = -buy_unit / row['close']\n",
    "            capital += abs(position) * row['close']\n",
    "            waiting_period = waiting_period_set  # 设置等待期间为12个时间点，即一个小时\n",
    "            trade_count += 1\n",
    "        else:\n",
    "            # 仓位为负，重置等待期间\n",
    "            waiting_period = waiting_period_set\n",
    "    total_asset_value = capital + (position * row['close'])\n",
    "    total_asset_list.append(total_asset_value)\n",
    "        \n",
    "    # 检查是否是DataFrame的最后一行\n",
    "    if index == df_1h_magnify.index[-1] and position != 0:\n",
    "        # 如果是最后一期，则关闭所有仓位\n",
    "        capital += position * row['close']\n",
    "        position = 0  # 清仓\n",
    "    capital_list.append(capital)\n",
    "\n",
    "# 计算总回报\n",
    "total_return = capital - initial_capital\n",
    "df_1h_magnify['capital_list'] = capital_list\n",
    "df_1h_magnify['total_asset_list'] = total_asset_list"
   ]
  },
  {
   "cell_type": "code",
   "execution_count": 369,
   "id": "5ae7382c",
   "metadata": {},
   "outputs": [
    {
     "data": {
      "text/plain": [
       "5.841141081317232"
      ]
     },
     "execution_count": 369,
     "metadata": {},
     "output_type": "execute_result"
    }
   ],
   "source": [
    "total_return"
   ]
  },
  {
   "cell_type": "code",
   "execution_count": 370,
   "id": "6272d348",
   "metadata": {},
   "outputs": [
    {
     "data": {
      "text/plain": [
       "0.00584114108131728"
      ]
     },
     "execution_count": 370,
     "metadata": {},
     "output_type": "execute_result"
    }
   ],
   "source": [
    "df_1h_magnify['capital_list'][-1]/1000-1"
   ]
  },
  {
   "cell_type": "code",
   "execution_count": 371,
   "id": "a67ee152",
   "metadata": {},
   "outputs": [
    {
     "data": {
      "text/plain": [
       "-0.0018966071956476593"
      ]
     },
     "execution_count": 371,
     "metadata": {},
     "output_type": "execute_result"
    }
   ],
   "source": [
    "df_1h_magnify['close'][-1]/df_1h_magnify['close'][0] -1"
   ]
  },
  {
   "cell_type": "code",
   "execution_count": 372,
   "id": "25feea00",
   "metadata": {},
   "outputs": [
    {
     "data": {
      "text/plain": [
       "[<matplotlib.lines.Line2D at 0x2cdf5ce50>]"
      ]
     },
     "execution_count": 372,
     "metadata": {},
     "output_type": "execute_result"
    },
    {
     "data": {
      "image/png": "[encoded data removed]",
      "text/plain": [
       "<Figure size 640x480 with 1 Axes>"
      ]
     },
     "metadata": {},
     "output_type": "display_data"
    }
   ],
   "source": [
    "plt.plot(df_1h_magnify.index,df_1h_magnify['total_asset_list'])"
   ]
  },
  {
   "cell_type": "code",
   "execution_count": 373,
   "id": "725b2013",
   "metadata": {},
   "outputs": [],
   "source": [
    "import numpy as np\n",
    "\n",
    "# 假设 df_1h_magnify['close'] 存在且已经有了 total_asset_list\n",
    "close_prices = df_1h_magnify['close'].values\n",
    "normalized_close_prices = close_prices / close_prices[0]  # 归一化收盘价\n",
    "\n",
    "total_assets = np.array(total_asset_list)\n",
    "normalized_total_assets = total_assets / total_assets[0]  # 归一化资产总价值\n",
    "\n",
    "# 更新DataFrame，以便比较\n",
    "df_1h_magnify['normalized_close'] = normalized_close_prices\n",
    "df_1h_magnify['normalized_total_assets'] = normalized_total_assets"
   ]
  },
  {
   "cell_type": "code",
   "execution_count": 374,
   "id": "81552b61",
   "metadata": {},
   "outputs": [
    {
     "data": {
      "image/png": "[encoded data removed]",
      "text/plain": [
       "<Figure size 1400x700 with 1 Axes>"
      ]
     },
     "metadata": {},
     "output_type": "display_data"
    }
   ],
   "source": [
    "import matplotlib.pyplot as plt\n",
    "import matplotlib.dates as mdates\n",
    "\n",
    "# 设置图像大小\n",
    "plt.figure(figsize=(14, 7))\n",
    "\n",
    "\n",
    "# 添加买入卖出标记，使用不同颜色区分买入和卖出\n",
    "buy_signals = [i for i, signal in enumerate(trade_signals) if signal == 1]\n",
    "sell_signals = [i for i, signal in enumerate(trade_signals) if signal == -1]\n",
    "\n",
    "# 绘制归一化的收盘价和资产总价值\n",
    "plt.plot(df_1h_magnify.index, df_1h_magnify['normalized_close'], label='Stock')\n",
    "plt.plot(df_1h_magnify.index, df_1h_magnify['normalized_total_assets'], label='Strategy')\n",
    "\n",
    "# 添加买入卖出标记，使用不同颜色区分买入和卖出\n",
    "# 这次直接使用有效的索引列表进行绘制\n",
    "plt.scatter(df_1h_magnify.index[buy_signals], df_1h_magnify['normalized_close'].iloc[buy_signals], color='green', label='Buy Signal', marker='^', alpha=1)\n",
    "plt.scatter(df_1h_magnify.index[sell_signals], df_1h_magnify['normalized_close'].iloc[sell_signals], color='red', label='Sell Signal', marker='v', alpha=1)\n",
    "\n",
    "plt.legend()\n",
    "plt.show()"
   ]
  },
  {
   "cell_type": "code",
   "execution_count": 334,
   "id": "719f2041",
   "metadata": {},
   "outputs": [
    {
     "data": {
      "text/plain": [
       "array([1000.        , 1000.        , 1000.        , 1000.        ,\n",
       "       1000.        ,  999.6465182 ,  999.95294577,  999.95294577,\n",
       "        999.95294577,  999.95294577,  999.95294577,  999.95294577,\n",
       "        999.95294577,  999.95294577, 1000.65621844, 1001.07648461,\n",
       "        999.74620081, 1000.42391342, 1000.42391342, 1000.42391342,\n",
       "       1000.42391342,  999.92070694,  999.75701847,  998.97223497,\n",
       "        995.87827454,  996.42839743,  996.42839743,  996.42839743,\n",
       "        996.42839743,  996.42839743,  992.99542002,  995.06173201,\n",
       "        995.06173201,  995.06173201,  995.06173201,  995.06173201,\n",
       "        995.06173201,  995.06173201,  995.06173201,  995.06173201,\n",
       "        995.06173201,  995.06173201,  995.06173201,  995.06173201,\n",
       "        995.06173201,  995.06173201,  995.06173201,  995.06173201,\n",
       "        995.06173201,  995.06173201,  995.06173201,  995.06173201,\n",
       "        995.06173201,  995.06173201,  995.06173201,  995.06173201,\n",
       "        995.06173201,  995.06173201,  995.06173201,  995.06173201,\n",
       "        995.06173201,  995.06173201,  997.17094223,  997.17094223,\n",
       "        997.17094223,  997.17094223,  997.17094223,  997.17094223,\n",
       "        997.17094223,  997.17094223, 1001.70203125, 1001.70203125,\n",
       "       1001.70203125, 1003.95982491, 1003.95982491, 1003.95982491,\n",
       "       1003.95982491, 1003.95982491, 1003.95982491, 1003.95982491,\n",
       "       1003.95982491, 1003.95982491, 1003.95982491, 1003.95982491,\n",
       "       1003.95982491, 1003.95982491, 1003.95982491, 1003.95982491,\n",
       "       1003.95982491, 1003.95982491, 1003.95982491, 1003.95982491,\n",
       "       1003.95982491, 1003.95982491, 1003.95982491, 1003.95982491,\n",
       "       1003.95982491, 1003.95982491, 1003.95982491, 1003.95982491,\n",
       "       1003.95982491, 1003.95982491, 1003.95982491, 1005.76421878,\n",
       "       1005.76421878, 1006.06922273, 1006.06922273, 1006.06922273,\n",
       "       1006.06922273, 1006.06922273, 1006.06922273, 1006.06922273,\n",
       "       1006.06922273, 1006.06922273, 1006.06922273, 1006.06922273,\n",
       "       1006.06922273, 1006.06922273, 1006.06922273, 1008.19581005,\n",
       "       1008.19581005, 1008.19581005, 1008.19581005, 1008.19581005,\n",
       "       1008.19581005, 1008.19581005, 1008.19581005, 1008.19581005,\n",
       "       1008.19581005, 1008.19581005, 1008.19581005, 1008.19581005,\n",
       "       1008.19581005, 1008.19581005, 1008.19581005, 1008.19581005,\n",
       "       1008.19581005, 1008.19581005, 1008.19581005, 1008.19581005,\n",
       "       1008.19581005, 1008.19581005, 1008.19581005, 1008.19581005,\n",
       "       1008.19581005, 1008.19581005, 1008.19581005, 1008.19581005,\n",
       "       1008.19581005, 1009.30174987, 1009.30174987, 1009.30174987,\n",
       "       1009.30174987, 1009.30174987, 1009.30174987, 1009.30174987,\n",
       "       1009.30174987, 1009.30174987, 1009.30174987, 1009.30174987,\n",
       "       1009.30174987, 1009.30174987, 1009.30174987, 1009.30174987,\n",
       "       1009.30174987, 1009.30174987, 1009.30174987, 1009.30174987,\n",
       "       1009.30174987, 1009.30174987, 1009.30174987, 1009.30174987,\n",
       "       1009.30174987, 1009.30174987, 1009.30174987, 1009.30174987,\n",
       "       1009.30174987, 1009.30174987, 1009.30174987, 1009.30174987,\n",
       "       1009.30174987, 1009.30174987, 1015.98465159, 1015.98465159,\n",
       "       1015.98465159, 1015.98465159, 1015.98465159, 1015.98465159,\n",
       "       1015.98465159, 1015.98465159, 1015.98465159, 1015.98465159,\n",
       "       1015.98465159, 1015.21856374, 1015.68250399, 1015.68250399,\n",
       "       1015.68250399, 1015.68250399, 1015.68250399, 1015.68250399,\n",
       "       1015.68250399, 1015.68250399, 1015.68250399, 1015.68250399,\n",
       "       1015.68250399, 1015.68250399, 1015.68250399, 1015.68250399,\n",
       "       1015.68250399, 1015.68250399, 1015.68250399, 1015.68250399,\n",
       "       1015.68250399, 1015.68250399, 1015.68250399, 1015.68250399,\n",
       "       1015.68250399, 1015.68250399, 1015.68250399, 1015.68250399,\n",
       "       1015.68250399, 1015.68250399, 1015.68250399, 1015.68250399,\n",
       "       1015.68250399, 1015.68250399, 1015.68250399, 1015.68250399,\n",
       "       1015.68250399, 1015.68250399, 1005.94142093, 1011.34704602,\n",
       "       1011.34704602, 1011.34704602, 1011.34704602, 1011.34704602,\n",
       "       1009.07624181, 1007.65958944, 1007.33399291, 1007.57780456,\n",
       "       1004.91513716, 1002.58304761, 1002.95705416, 1005.50402116,\n",
       "       1005.50402116, 1005.50402116, 1005.50402116, 1009.15233885,\n",
       "       1009.15233885, 1010.26560896, 1010.26560896, 1010.26560896,\n",
       "       1010.26560896, 1010.26560896, 1010.26560896, 1010.26560896,\n",
       "       1010.26560896, 1010.26560896, 1010.26560896, 1010.26560896,\n",
       "       1010.26560896, 1010.26560896, 1010.26560896, 1010.26560896,\n",
       "       1010.26560896, 1010.26560896, 1010.26560896, 1010.26560896,\n",
       "       1010.26560896, 1000.6558376 , 1000.6558376 , 1000.78383387,\n",
       "       1000.78383387, 1000.36892481,  998.31828081,  999.39668964,\n",
       "        999.39668964,  999.39668964,  999.39668964,  999.53430503,\n",
       "        997.6532792 ,  995.7757151 ,  992.30123344,  993.73668739,\n",
       "        993.73668739,  993.73668739,  993.73668739,  993.73668739,\n",
       "        993.73668739,  993.73668739,  993.73668739,  993.73668739,\n",
       "        993.73668739,  993.73668739,  993.73668739,  993.73668739,\n",
       "        993.73668739,  993.73668739,  996.86258631,  996.86258631,\n",
       "        996.86258631,  996.86258631,  996.86258631,  996.86258631,\n",
       "        996.86258631,  996.86258631,  996.86258631,  996.86258631,\n",
       "        996.86258631,  996.86258631,  996.86258631,  996.86258631,\n",
       "        996.86258631,  996.86258631,  996.86258631,  996.86258631,\n",
       "        996.86258631,  996.86258631,  996.86258631,  996.86258631,\n",
       "        996.86258631,  996.86258631,  996.86258631,  996.86258631,\n",
       "        996.86258631,  996.86258631,  996.86258631,  996.86258631,\n",
       "        996.86258631,  996.86258631,  996.86258631,  995.79921206,\n",
       "        995.79921206,  995.79921206,  995.79921206,  995.79921206,\n",
       "        995.79921206,  995.79921206,  995.79921206,  995.79921206,\n",
       "        995.79921206,  995.79921206,  995.79921206,  995.79921206,\n",
       "        997.44934211,  997.44934211,  999.00925516,  999.00925516,\n",
       "        999.47975364,  999.47975364,  999.47975364,  999.47975364,\n",
       "        999.47975364,  999.47975364,  999.47975364, 1000.03192205,\n",
       "       1000.03192205, 1000.03192205, 1000.42000181, 1002.54055189,\n",
       "       1002.54055189, 1002.54055189, 1002.54055189, 1002.54055189,\n",
       "       1002.54055189, 1002.54055189, 1002.54055189, 1002.54055189,\n",
       "       1002.54055189, 1002.54055189, 1002.54055189, 1002.54055189,\n",
       "       1002.54055189, 1002.54055189, 1002.54055189, 1002.54055189,\n",
       "       1002.54055189, 1002.54055189,  999.84553036, 1001.14457973,\n",
       "       1001.14457973, 1001.14457973, 1001.14457973, 1001.14457973,\n",
       "       1001.14457973, 1001.14457973, 1001.14457973, 1001.14457973,\n",
       "       1001.14457973, 1001.14457973, 1001.14457973, 1001.14457973,\n",
       "       1001.14457973, 1001.14457973, 1001.14457973, 1001.14457973,\n",
       "       1004.53466037, 1004.53466037, 1004.53466037, 1004.53466037,\n",
       "       1004.53466037, 1004.53466037, 1004.53466037, 1004.53466037,\n",
       "       1004.53466037, 1004.53466037, 1004.53466037])"
      ]
     },
     "execution_count": 334,
     "metadata": {},
     "output_type": "execute_result"
    }
   ],
   "source": [
    "total_assets"
   ]
  },
  {
   "cell_type": "code",
   "execution_count": 190,
   "id": "c4d58aca",
   "metadata": {},
   "outputs": [
    {
     "data": {
      "text/plain": [
       "[23,\n",
       " 24,\n",
       " 25,\n",
       " 26,\n",
       " 29,\n",
       " 30,\n",
       " 31,\n",
       " 39,\n",
       " 40,\n",
       " 44,\n",
       " 45,\n",
       " 46,\n",
       " 47,\n",
       " 52,\n",
       " 55,\n",
       " 56,\n",
       " 60,\n",
       " 61,\n",
       " 62,\n",
       " 63,\n",
       " 64,\n",
       " 65,\n",
       " 66,\n",
       " 69,\n",
       " 70,\n",
       " 71,\n",
       " 72,\n",
       " 73,\n",
       " 74,\n",
       " 75,\n",
       " 76,\n",
       " 77,\n",
       " 78,\n",
       " 79,\n",
       " 80,\n",
       " 81,\n",
       " 82,\n",
       " 83,\n",
       " 84,\n",
       " 87,\n",
       " 88,\n",
       " 89,\n",
       " 90,\n",
       " 94,\n",
       " 95,\n",
       " 96,\n",
       " 97,\n",
       " 98,\n",
       " 99,\n",
       " 102,\n",
       " 103,\n",
       " 108,\n",
       " 109,\n",
       " 110,\n",
       " 111,\n",
       " 115,\n",
       " 116,\n",
       " 117,\n",
       " 118,\n",
       " 119,\n",
       " 120,\n",
       " 121,\n",
       " 123,\n",
       " 127,\n",
       " 128,\n",
       " 129,\n",
       " 131,\n",
       " 132,\n",
       " 133,\n",
       " 134,\n",
       " 135,\n",
       " 136,\n",
       " 137,\n",
       " 138,\n",
       " 139,\n",
       " 141,\n",
       " 142,\n",
       " 143,\n",
       " 144,\n",
       " 145,\n",
       " 146,\n",
       " 147,\n",
       " 148,\n",
       " 151,\n",
       " 152,\n",
       " 153,\n",
       " 154,\n",
       " 155,\n",
       " 166,\n",
       " 167,\n",
       " 204,\n",
       " 205,\n",
       " 355,\n",
       " 356,\n",
       " 473,\n",
       " 486,\n",
       " 487,\n",
       " 535,\n",
       " 536,\n",
       " 539,\n",
       " 545,\n",
       " 546,\n",
       " 547,\n",
       " 548,\n",
       " 980,\n",
       " 981,\n",
       " 1036,\n",
       " 1037,\n",
       " 1038,\n",
       " 1044,\n",
       " 1045,\n",
       " 1046,\n",
       " 1051,\n",
       " 1074,\n",
       " 1076,\n",
       " 1077,\n",
       " 1078,\n",
       " 1083,\n",
       " 1084,\n",
       " 1092,\n",
       " 1093,\n",
       " 1096,\n",
       " 1097,\n",
       " 1098,\n",
       " 1099,\n",
       " 1100,\n",
       " 1101,\n",
       " 1102,\n",
       " 1103,\n",
       " 1104,\n",
       " 1108,\n",
       " 1109,\n",
       " 1110,\n",
       " 1114,\n",
       " 1115,\n",
       " 1116,\n",
       " 1117,\n",
       " 1119,\n",
       " 1120,\n",
       " 1121,\n",
       " 1122,\n",
       " 1127,\n",
       " 1128,\n",
       " 1150,\n",
       " 1151,\n",
       " 1152,\n",
       " 1153,\n",
       " 1154,\n",
       " 1155,\n",
       " 1158,\n",
       " 1159,\n",
       " 1160,\n",
       " 1161,\n",
       " 1162,\n",
       " 1163,\n",
       " 1164,\n",
       " 1165,\n",
       " 1166,\n",
       " 1167,\n",
       " 1168,\n",
       " 1169,\n",
       " 1170,\n",
       " 1171,\n",
       " 1172,\n",
       " 1173,\n",
       " 1174,\n",
       " 1175,\n",
       " 1176,\n",
       " 1177,\n",
       " 1178,\n",
       " 1179,\n",
       " 1180,\n",
       " 1181,\n",
       " 1182,\n",
       " 1194,\n",
       " 1195,\n",
       " 1196,\n",
       " 1197,\n",
       " 1199,\n",
       " 1203,\n",
       " 1204,\n",
       " 1205,\n",
       " 1206,\n",
       " 1207,\n",
       " 1209,\n",
       " 1210,\n",
       " 1211,\n",
       " 1212,\n",
       " 1218,\n",
       " 1219,\n",
       " 1240,\n",
       " 1255,\n",
       " 1256,\n",
       " 1257,\n",
       " 1258,\n",
       " 1266,\n",
       " 1267,\n",
       " 1268,\n",
       " 1269,\n",
       " 1270,\n",
       " 1291,\n",
       " 1310,\n",
       " 1311,\n",
       " 1337,\n",
       " 1374]"
      ]
     },
     "execution_count": 190,
     "metadata": {},
     "output_type": "execute_result"
    }
   ],
   "source": [
    "buy_signals"
   ]
  },
  {
   "cell_type": "code",
   "execution_count": null,
   "id": "9ccde912",
   "metadata": {},
   "outputs": [],
   "source": []
  }
 ],
 "metadata": {
  "kernelspec": {
   "display_name": "Python 3 (ipykernel)",
   "language": "python",
   "name": "python3"
  },
  "language_info": {
   "codemirror_mode": {
    "name": "ipython",
    "version": 3
   },
   "file_extension": ".py",
   "mimetype": "text/x-python",
   "name": "python",
   "nbconvert_exporter": "python",
   "pygments_lexer": "ipython3",
   "version": "3.11.5"
  }
 },
 "nbformat": 4,
 "nbformat_minor": 5
}
