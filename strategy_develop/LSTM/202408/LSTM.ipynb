{
 "cells": [
  {
   "cell_type": "markdown",
   "id": "0f407c5b",
   "metadata": {},
   "source": [
    "# 数据预处理"
   ]
  },
  {
   "cell_type": "code",
   "execution_count": 126,
   "id": "8db382eb",
   "metadata": {},
   "outputs": [],
   "source": [
    "from sklearn.preprocessing import MinMaxScaler\n",
    "import numpy as np\n",
    "import pandas as pd\n",
    "from sklearn.model_selection import train_test_split\n",
    "from sklearn.linear_model import LinearRegression\n",
    "from sklearn.metrics import mean_squared_error\n",
    "import numpy as np\n",
    "from keras.models import Sequential\n",
    "from keras.layers import Dense, LSTM\n",
    "from keras.optimizers.legacy import Adam\n",
    "from datetime import datetime\n",
    "\n",
    "import pandas as pd\n",
    "import numpy as np\n",
    "import matplotlib.pyplot as plt\n"
   ]
  },
  {
   "cell_type": "code",
   "execution_count": 65,
   "id": "bb14a31d",
   "metadata": {},
   "outputs": [],
   "source": [
    "df = pd.read_csv('/Users/harvey/Desktop/quant2/FE/final_data_20240303.csv')"
   ]
  },
  {
   "cell_type": "code",
   "execution_count": 66,
   "id": "16475ec9",
   "metadata": {},
   "outputs": [],
   "source": [
    "# 找到第一个空值出现的位置\n",
    "first_null_position = df.isnull().any(axis=1).idxmin()"
   ]
  },
  {
   "cell_type": "code",
   "execution_count": 71,
   "id": "760a8d6b",
   "metadata": {},
   "outputs": [],
   "source": [
    "df = df[first_null_position:]"
   ]
  },
  {
   "cell_type": "code",
   "execution_count": 72,
   "id": "3e6847bc",
   "metadata": {},
   "outputs": [],
   "source": [
    "df = df_cleaned.set_index('Date')"
   ]
  },
  {
   "cell_type": "code",
   "execution_count": 73,
   "id": "fed3ba61",
   "metadata": {},
   "outputs": [
    {
     "data": {
      "text/plain": [
       "False"
      ]
     },
     "execution_count": 73,
     "metadata": {},
     "output_type": "execute_result"
    }
   ],
   "source": [
    "df.isnull().values.any()"
   ]
  },
  {
   "cell_type": "code",
   "execution_count": 75,
   "id": "dc9a9204",
   "metadata": {},
   "outputs": [
    {
     "name": "stdout",
     "output_type": "stream",
     "text": [
      "Epoch 1/10\n",
      "96/96 [==============================] - 15s 143ms/step - loss: 0.0121 - val_loss: 0.0030\n",
      "Epoch 2/10\n",
      "96/96 [==============================] - 13s 139ms/step - loss: 5.6436e-04 - val_loss: 0.0013\n",
      "Epoch 3/10\n",
      "96/96 [==============================] - 13s 138ms/step - loss: 4.5456e-04 - val_loss: 0.0011\n",
      "Epoch 4/10\n",
      "96/96 [==============================] - 13s 138ms/step - loss: 4.2747e-04 - val_loss: 8.4080e-04\n",
      "Epoch 5/10\n",
      "96/96 [==============================] - 13s 139ms/step - loss: 4.1299e-04 - val_loss: 4.9650e-04\n",
      "Epoch 6/10\n",
      "96/96 [==============================] - 13s 140ms/step - loss: 3.9669e-04 - val_loss: 4.6968e-04\n",
      "Epoch 7/10\n",
      "96/96 [==============================] - 14s 143ms/step - loss: 3.8783e-04 - val_loss: 4.5083e-04\n",
      "Epoch 8/10\n",
      "96/96 [==============================] - 14s 142ms/step - loss: 4.2172e-04 - val_loss: 5.9587e-04\n",
      "Epoch 9/10\n",
      "96/96 [==============================] - 13s 139ms/step - loss: 3.7650e-04 - val_loss: 4.5850e-04\n",
      "Epoch 10/10\n",
      "96/96 [==============================] - 14s 144ms/step - loss: 4.0643e-04 - val_loss: 7.1063e-04\n",
      "48/48 [==============================] - 1s 23ms/step\n"
     ]
    }
   ],
   "source": [
    "from sklearn.preprocessing import MinMaxScaler\n",
    "import numpy as np\n",
    "from keras.models import Sequential\n",
    "from keras.layers import Dense, LSTM\n",
    "\n",
    "# 假设 df 是您的 DataFrame\n",
    "\n",
    "# 数据准备\n",
    "features = df.drop(['close', 'time', 'open', 'high', 'low'], axis=1)\n",
    "scaler_features = MinMaxScaler(feature_range=(0, 1))\n",
    "scaled_features = scaler_features.fit_transform(features)\n",
    "\n",
    "scaler_label = MinMaxScaler(feature_range=(0, 1))\n",
    "scaled_close = scaler_label.fit_transform(df[['close']])\n",
    "scaled_features = np.hstack((scaled_features, scaled_close))\n",
    "\n",
    "\n",
    "time_step=96*3\n",
    "\n",
    "future_step=12\n",
    "\n",
    "from keras import backend as K\n",
    "\n",
    "\n",
    "\n",
    "\n",
    "# 修改create_dataset以预测未来48个数据点\n",
    "def create_dataset(data, time_step=120, future_step=48):\n",
    "    X, Y = [], []\n",
    "    for i in range(len(data) - time_step - future_step):\n",
    "        a = data[i:(i + time_step), :-1]  # 特征\n",
    "        X.append(a)\n",
    "        Y.append(data[(i + time_step):(i + time_step + future_step), -1])  # 'close'列的未来48个数据点\n",
    "    return np.array(X), np.array(Y)\n",
    "\n",
    "# 应用修改后的时间步长\n",
    "X, y = create_dataset(scaled_features, time_step=time_step, future_step=future_step)\n",
    "\n",
    "# 划分训练集和测试集\n",
    "split = int(len(X) * 0.8)\n",
    "X_train, X_test = X[:split], X[split:]\n",
    "y_train, y_test = y[:split], y[split:]\n",
    "\n",
    "model = Sequential([\n",
    "    LSTM(50, return_sequences=True, input_shape=(X_train.shape[1], X_train.shape[2]), kernel_initializer='glorot_uniform'),\n",
    "    LSTM(50, return_sequences=False),\n",
    "    Dense(future_step)\n",
    "])\n",
    "\n",
    "# 定义自定义损失函数\n",
    "def custom_loss(y_true, y_pred):\n",
    "    y_pred_last = y_pred[:, -1]\n",
    "    y_true_last = y_true[:, -1]\n",
    "    return K.mean(K.square(y_pred_last - y_true_last) + K.epsilon(), axis=-1)\n",
    "\n",
    "\n",
    "optimizer = Adam(learning_rate=0.001, clipvalue=0.5)  # clipvalue是梯度裁剪的阈值\n",
    "model.compile(optimizer=optimizer,loss=custom_loss)\n",
    "\n",
    "model.fit(X_train, y_train, validation_data=(X_test, y_test), epochs=10, batch_size=64, verbose=1)\n",
    "\n",
    "# 预测和可视化\n",
    "y_pred = model.predict(X_test)\n",
    "\n",
    "\n"
   ]
  },
  {
   "cell_type": "code",
   "execution_count": 79,
   "id": "596bed53",
   "metadata": {},
   "outputs": [
    {
     "data": {
      "text/plain": [
       "array([[-0.08996543, -0.11301502,  0.07939831, ..., -0.08759762,\n",
       "        -0.27403173,  0.61978006],\n",
       "       [-0.08996872, -0.10754851,  0.07861725, ..., -0.08687697,\n",
       "        -0.2718506 ,  0.6207659 ],\n",
       "       [-0.08998711, -0.10171127,  0.07620605, ..., -0.08770946,\n",
       "        -0.26900256,  0.62177855],\n",
       "       ...,\n",
       "       [-0.2148271 , -0.14489678,  0.09277163, ..., -0.00102182,\n",
       "        -0.43576565,  0.9431326 ],\n",
       "       [-0.21416396, -0.1418839 ,  0.09084824, ..., -0.0021269 ,\n",
       "        -0.43402573,  0.94283557],\n",
       "       [-0.21547157, -0.14016935,  0.08871826, ..., -0.00193599,\n",
       "        -0.4326604 ,  0.9457572 ]], dtype=float32)"
      ]
     },
     "execution_count": 79,
     "metadata": {},
     "output_type": "execute_result"
    }
   ],
   "source": [
    "y_pred"
   ]
  },
  {
   "cell_type": "code",
   "execution_count": 78,
   "id": "c2ce5691",
   "metadata": {},
   "outputs": [
    {
     "data": {
      "text/plain": [
       "array([[0.61975072, 0.62051774, 0.61764142, ..., 0.6147651 , 0.61323106,\n",
       "        0.61361457],\n",
       "       [0.62051774, 0.61764142, 0.61495686, ..., 0.61323106, 0.61361457,\n",
       "        0.61725791],\n",
       "       [0.61764142, 0.61495686, 0.61303931, ..., 0.61361457, 0.61725791,\n",
       "        0.61668073],\n",
       "       ...,\n",
       "       [0.97430489, 0.97756472, 0.9767977 , ..., 0.97948226, 0.97929051,\n",
       "        0.97948226],\n",
       "       [0.97756472, 0.9767977 , 0.97583893, ..., 0.97929051, 0.97948226,\n",
       "        0.97852349],\n",
       "       [0.9767977 , 0.97583893, 0.97775647, ..., 0.97948226, 0.97852349,\n",
       "        0.97756472]])"
      ]
     },
     "execution_count": 78,
     "metadata": {},
     "output_type": "execute_result"
    }
   ],
   "source": [
    "y_test"
   ]
  },
  {
   "cell_type": "code",
   "execution_count": 80,
   "id": "c9573338",
   "metadata": {},
   "outputs": [],
   "source": [
    "# 假设已经完成模型训练和预测步骤\n",
    "\n",
    "# 逆标准化预测结果\n",
    "y_pred_rescaled = scaler_label.inverse_transform(y_pred)\n",
    "y_test_rescaled = scaler_label.inverse_transform(y_test)\n",
    "\n",
    "# 由于预测结果对应于测试集，我们需要确定测试集开始的索引\n",
    "test_start_index = len(df) - len(y_pred_rescaled)\n",
    "\n",
    "# 创建一个新列以存储预测结果\n",
    "# 注意：这里我们简化地只存储未来一个小时预测的最后一个值\n",
    "\n",
    "\n",
    "predicted_close = np.full(shape=len(df), fill_value=np.nan)\n",
    "predicted_close[test_start_index:] = y_pred_rescaled[:,-1]  # 只考虑每个序列预测的最后一个值\n",
    "\n",
    "actual_close = np.full(shape=len(df), fill_value=np.nan)\n",
    "# 为了对齐预测值，我们从测试集开始的索引处填充真实的关闭价格\n",
    "# 注意，我们这里也是只考虑每个序列预测的最后一个值，因为这代表了一小时后的真实close值\n",
    "actual_close[test_start_index:] = y_test_rescaled[:,-1]  # 只考虑每个序列的最后一个值\n",
    "\n",
    "# 将真实的close值加入到df中\n",
    "df['actual_close_in1h'] = actual_close\n",
    "\n",
    "df['predicted_close_in1h'] = predicted_close\n"
   ]
  },
  {
   "cell_type": "code",
   "execution_count": 82,
   "id": "d716927d",
   "metadata": {},
   "outputs": [],
   "source": [
    "df_1h_magnify = df[['close','actual_close_in1h','predicted_close_in1h']]"
   ]
  },
  {
   "cell_type": "code",
   "execution_count": 84,
   "id": "cd4fd4b3",
   "metadata": {},
   "outputs": [
    {
     "name": "stderr",
     "output_type": "stream",
     "text": [
      "/var/folders/t2/vmnkmyxs42b6h_fbsdjtsp0c0000gn/T/ipykernel_2476/2636791147.py:1: SettingWithCopyWarning: \n",
      "A value is trying to be set on a copy of a slice from a DataFrame.\n",
      "Try using .loc[row_indexer,col_indexer] = value instead\n",
      "\n",
      "See the caveats in the documentation: https://pandas.pydata.org/pandas-docs/stable/user_guide/indexing.html#returning-a-view-versus-a-copy\n",
      "  df_1h_magnify['true_updown_in1h'] = df_1h_magnify['actual_close_in1h']/df_1h_magnify['close'] - 1\n",
      "/var/folders/t2/vmnkmyxs42b6h_fbsdjtsp0c0000gn/T/ipykernel_2476/2636791147.py:2: SettingWithCopyWarning: \n",
      "A value is trying to be set on a copy of a slice from a DataFrame.\n",
      "Try using .loc[row_indexer,col_indexer] = value instead\n",
      "\n",
      "See the caveats in the documentation: https://pandas.pydata.org/pandas-docs/stable/user_guide/indexing.html#returning-a-view-versus-a-copy\n",
      "  df_1h_magnify['predict_updown_in1h'] = df_1h_magnify['predicted_close_in1h']/df_1h_magnify['close'] - 1\n"
     ]
    }
   ],
   "source": [
    "df_1h_magnify['true_updown_in1h'] = df_1h_magnify['actual_close_in1h']/df_1h_magnify['close'] - 1\n",
    "df_1h_magnify['predict_updown_in1h'] = df_1h_magnify['predicted_close_in1h']/df_1h_magnify['close'] - 1"
   ]
  },
  {
   "cell_type": "code",
   "execution_count": 90,
   "id": "a61d6fd2",
   "metadata": {},
   "outputs": [
    {
     "data": {
      "text/plain": [
       "0.5485342019543974"
      ]
     },
     "execution_count": 90,
     "metadata": {},
     "output_type": "execute_result"
    }
   ],
   "source": [
    "df_1h_magnify = df_1h_magnify.dropna(how='any')\n",
    "\n",
    "df_1h_magnify['direction_same'] = (df_1h_magnify['true_updown_in1h'] * df_1h_magnify['predict_updown_in1h']) > 0\n",
    "\n",
    "# 计算方向相同的次数\n",
    "direction_same_count = df_1h_magnify['direction_same'].sum()\n",
    "\n",
    "direction_same_count/len(df_1h_magnify)"
   ]
  },
  {
   "cell_type": "code",
   "execution_count": 94,
   "id": "4bd6ab6d",
   "metadata": {},
   "outputs": [
    {
     "data": {
      "text/plain": [
       "-0.00029383574733743423"
      ]
     },
     "execution_count": 94,
     "metadata": {},
     "output_type": "execute_result"
    }
   ],
   "source": [
    "df_1h_magnify['true_updown_in1h'].quantile(0.25)"
   ]
  },
  {
   "cell_type": "code",
   "execution_count": 96,
   "id": "15eed241",
   "metadata": {},
   "outputs": [
    {
     "data": {
      "text/plain": [
       "0.0002091247577915567"
      ]
     },
     "execution_count": 96,
     "metadata": {},
     "output_type": "execute_result"
    }
   ],
   "source": [
    "df_1h_magnify['true_updown_in1h'].quantile(0.75)"
   ]
  },
  {
   "cell_type": "code",
   "execution_count": null,
   "id": "290bfec0",
   "metadata": {},
   "outputs": [],
   "source": []
  },
  {
   "cell_type": "code",
   "execution_count": null,
   "id": "56b3700f",
   "metadata": {},
   "outputs": [],
   "source": []
  },
  {
   "cell_type": "code",
   "execution_count": 99,
   "id": "a65212d6",
   "metadata": {},
   "outputs": [
    {
     "data": {
      "text/html": [
       "<div>\n",
       "<style scoped>\n",
       "    .dataframe tbody tr th:only-of-type {\n",
       "        vertical-align: middle;\n",
       "    }\n",
       "\n",
       "    .dataframe tbody tr th {\n",
       "        vertical-align: top;\n",
       "    }\n",
       "\n",
       "    .dataframe thead th {\n",
       "        text-align: right;\n",
       "    }\n",
       "</style>\n",
       "<table border=\"1\" class=\"dataframe\">\n",
       "  <thead>\n",
       "    <tr style=\"text-align: right;\">\n",
       "      <th></th>\n",
       "      <th>close</th>\n",
       "      <th>actual_close_in1h</th>\n",
       "      <th>predicted_close_in1h</th>\n",
       "      <th>true_updown_in1h</th>\n",
       "      <th>predict_updown_in1h</th>\n",
       "      <th>direction_same</th>\n",
       "      <th>predict_change_rate</th>\n",
       "    </tr>\n",
       "    <tr>\n",
       "      <th>Date</th>\n",
       "      <th></th>\n",
       "      <th></th>\n",
       "      <th></th>\n",
       "      <th></th>\n",
       "      <th></th>\n",
       "      <th></th>\n",
       "      <th></th>\n",
       "    </tr>\n",
       "  </thead>\n",
       "  <tbody>\n",
       "    <tr>\n",
       "      <th>2024-02-20 19:20:00</th>\n",
       "      <td>426.5100</td>\n",
       "      <td>426.3200</td>\n",
       "      <td>426.641510</td>\n",
       "      <td>-0.000445</td>\n",
       "      <td>0.000308</td>\n",
       "      <td>False</td>\n",
       "      <td>0.000308</td>\n",
       "    </tr>\n",
       "    <tr>\n",
       "      <th>2024-02-20 19:25:00</th>\n",
       "      <td>426.4799</td>\n",
       "      <td>426.5100</td>\n",
       "      <td>426.692963</td>\n",
       "      <td>0.000071</td>\n",
       "      <td>0.000500</td>\n",
       "      <td>True</td>\n",
       "      <td>0.000500</td>\n",
       "    </tr>\n",
       "    <tr>\n",
       "      <th>2024-02-20 19:30:00</th>\n",
       "      <td>426.3400</td>\n",
       "      <td>426.4799</td>\n",
       "      <td>426.745758</td>\n",
       "      <td>0.000328</td>\n",
       "      <td>0.000952</td>\n",
       "      <td>True</td>\n",
       "      <td>0.000952</td>\n",
       "    </tr>\n",
       "    <tr>\n",
       "      <th>2024-02-20 19:35:00</th>\n",
       "      <td>426.3000</td>\n",
       "      <td>426.3400</td>\n",
       "      <td>426.704193</td>\n",
       "      <td>0.000094</td>\n",
       "      <td>0.000948</td>\n",
       "      <td>True</td>\n",
       "      <td>0.000948</td>\n",
       "    </tr>\n",
       "    <tr>\n",
       "      <th>2024-02-20 19:40:00</th>\n",
       "      <td>426.2800</td>\n",
       "      <td>426.3000</td>\n",
       "      <td>426.586609</td>\n",
       "      <td>0.000047</td>\n",
       "      <td>0.000719</td>\n",
       "      <td>True</td>\n",
       "      <td>0.000719</td>\n",
       "    </tr>\n",
       "    <tr>\n",
       "      <th>...</th>\n",
       "      <td>...</td>\n",
       "      <td>...</td>\n",
       "      <td>...</td>\n",
       "      <td>...</td>\n",
       "      <td>...</td>\n",
       "      <td>...</td>\n",
       "      <td>...</td>\n",
       "    </tr>\n",
       "    <tr>\n",
       "      <th>2024-03-01 19:35:00</th>\n",
       "      <td>445.3900</td>\n",
       "      <td>445.4000</td>\n",
       "      <td>443.571808</td>\n",
       "      <td>0.000022</td>\n",
       "      <td>-0.004082</td>\n",
       "      <td>False</td>\n",
       "      <td>-0.004082</td>\n",
       "    </tr>\n",
       "    <tr>\n",
       "      <th>2024-03-01 19:40:00</th>\n",
       "      <td>445.4000</td>\n",
       "      <td>445.3900</td>\n",
       "      <td>443.600861</td>\n",
       "      <td>-0.000022</td>\n",
       "      <td>-0.004039</td>\n",
       "      <td>True</td>\n",
       "      <td>-0.004039</td>\n",
       "    </tr>\n",
       "    <tr>\n",
       "      <th>2024-03-01 19:45:00</th>\n",
       "      <td>445.3500</td>\n",
       "      <td>445.4000</td>\n",
       "      <td>443.504364</td>\n",
       "      <td>0.000112</td>\n",
       "      <td>-0.004144</td>\n",
       "      <td>False</td>\n",
       "      <td>-0.004144</td>\n",
       "    </tr>\n",
       "    <tr>\n",
       "      <th>2024-03-01 19:50:00</th>\n",
       "      <td>445.3000</td>\n",
       "      <td>445.3500</td>\n",
       "      <td>443.488861</td>\n",
       "      <td>0.000112</td>\n",
       "      <td>-0.004067</td>\n",
       "      <td>False</td>\n",
       "      <td>-0.004067</td>\n",
       "    </tr>\n",
       "    <tr>\n",
       "      <th>2024-03-01 19:55:00</th>\n",
       "      <td>445.1000</td>\n",
       "      <td>445.3000</td>\n",
       "      <td>443.641235</td>\n",
       "      <td>0.000449</td>\n",
       "      <td>-0.003277</td>\n",
       "      <td>False</td>\n",
       "      <td>-0.003277</td>\n",
       "    </tr>\n",
       "  </tbody>\n",
       "</table>\n",
       "<p>1535 rows × 7 columns</p>\n",
       "</div>"
      ],
      "text/plain": [
       "                        close  actual_close_in1h  predicted_close_in1h  \\\n",
       "Date                                                                     \n",
       "2024-02-20 19:20:00  426.5100           426.3200            426.641510   \n",
       "2024-02-20 19:25:00  426.4799           426.5100            426.692963   \n",
       "2024-02-20 19:30:00  426.3400           426.4799            426.745758   \n",
       "2024-02-20 19:35:00  426.3000           426.3400            426.704193   \n",
       "2024-02-20 19:40:00  426.2800           426.3000            426.586609   \n",
       "...                       ...                ...                   ...   \n",
       "2024-03-01 19:35:00  445.3900           445.4000            443.571808   \n",
       "2024-03-01 19:40:00  445.4000           445.3900            443.600861   \n",
       "2024-03-01 19:45:00  445.3500           445.4000            443.504364   \n",
       "2024-03-01 19:50:00  445.3000           445.3500            443.488861   \n",
       "2024-03-01 19:55:00  445.1000           445.3000            443.641235   \n",
       "\n",
       "                     true_updown_in1h  predict_updown_in1h  direction_same  \\\n",
       "Date                                                                         \n",
       "2024-02-20 19:20:00         -0.000445             0.000308           False   \n",
       "2024-02-20 19:25:00          0.000071             0.000500            True   \n",
       "2024-02-20 19:30:00          0.000328             0.000952            True   \n",
       "2024-02-20 19:35:00          0.000094             0.000948            True   \n",
       "2024-02-20 19:40:00          0.000047             0.000719            True   \n",
       "...                               ...                  ...             ...   \n",
       "2024-03-01 19:35:00          0.000022            -0.004082           False   \n",
       "2024-03-01 19:40:00         -0.000022            -0.004039            True   \n",
       "2024-03-01 19:45:00          0.000112            -0.004144           False   \n",
       "2024-03-01 19:50:00          0.000112            -0.004067           False   \n",
       "2024-03-01 19:55:00          0.000449            -0.003277           False   \n",
       "\n",
       "                     predict_change_rate  \n",
       "Date                                      \n",
       "2024-02-20 19:20:00             0.000308  \n",
       "2024-02-20 19:25:00             0.000500  \n",
       "2024-02-20 19:30:00             0.000952  \n",
       "2024-02-20 19:35:00             0.000948  \n",
       "2024-02-20 19:40:00             0.000719  \n",
       "...                                  ...  \n",
       "2024-03-01 19:35:00            -0.004082  \n",
       "2024-03-01 19:40:00            -0.004039  \n",
       "2024-03-01 19:45:00            -0.004144  \n",
       "2024-03-01 19:50:00            -0.004067  \n",
       "2024-03-01 19:55:00            -0.003277  \n",
       "\n",
       "[1535 rows x 7 columns]"
      ]
     },
     "execution_count": 99,
     "metadata": {},
     "output_type": "execute_result"
    }
   ],
   "source": [
    "df_1h_magnify"
   ]
  },
  {
   "cell_type": "markdown",
   "id": "dee69309",
   "metadata": {},
   "source": [
    "# 模型表现"
   ]
  },
  {
   "cell_type": "code",
   "execution_count": 186,
   "id": "65933bd2",
   "metadata": {},
   "outputs": [],
   "source": [
    "#config\n",
    "\n",
    "buy_threshold = 0.0002\n",
    "sell_threshold = -0.0003"
   ]
  },
  {
   "cell_type": "code",
   "execution_count": 187,
   "id": "59031838",
   "metadata": {},
   "outputs": [],
   "source": [
    "# 初始化资金和仓位\n",
    "initial_capital = 1000\n",
    "capital = initial_capital\n",
    "position = 0  # 当前仓位，正数为持有，负数为卖空\n",
    "trade_count = 0  # 交易次数\n",
    "waiting_period = 0  # 等待期间的计数器\n",
    "capital_list = []\n",
    "\n",
    "for index, row in df_1h_magnify.iterrows():\n",
    "    predict_change_rate = row['predict_updown_in1h']\n",
    "    \n",
    "    # 如果在等待期间\n",
    "    if waiting_period > 0:\n",
    "        waiting_period -= 1\n",
    "        # 检查是否有相反的信号出现\n",
    "        if (position > 0 and predict_change_rate < sell_threshold) or (position < 0 and predict_change_rate > buy_threshold):\n",
    "            # 平仓\n",
    "            capital += position * row['close']\n",
    "            position = 0  # 清仓\n",
    "            waiting_period = 0  # 重置等待期间\n",
    "            \n",
    "    # 检查是否买入条件\n",
    "    if position == 0 and predict_change_rate > buy_threshold:\n",
    "        # 买入\n",
    "        position = 100 / row['close']\n",
    "        capital -= position * row['close']\n",
    "        waiting_period = 11  # 设置等待期间\n",
    "        trade_count += 1\n",
    "    elif position == 0 and predict_change_rate < sell_threshold:\n",
    "        # 卖空\n",
    "        position = -100 / row['close']\n",
    "        capital += abs(position) * row['close']\n",
    "        waiting_period = 11\n",
    "        trade_count += 1\n",
    "        \n",
    "    # 如果不在等待期间，则可以平仓\n",
    "    if waiting_period == 0 and position != 0:\n",
    "        capital += position * row['close']\n",
    "        position = 0  # 清仓\n",
    "\n",
    "    \n",
    "\n",
    "    # 检查是否是DataFrame的最后一行\n",
    "    if index == df_1h_magnify.index[-1] and position != 0:\n",
    "        # 如果是最后一期，则关闭所有仓位\n",
    "        capital += position * row['close']\n",
    "        position = 0  # 清仓\n",
    "    capital_list.append(capital)\n",
    "\n",
    "# 计算总回报\n",
    "total_return = capital - initial_capital\n",
    "df_1h_magnify['capital_list'] = capital_list"
   ]
  },
  {
   "cell_type": "code",
   "execution_count": 188,
   "id": "5ae7382c",
   "metadata": {},
   "outputs": [
    {
     "data": {
      "text/plain": [
       "-3.067953303990521"
      ]
     },
     "execution_count": 188,
     "metadata": {},
     "output_type": "execute_result"
    }
   ],
   "source": [
    "total_return"
   ]
  },
  {
   "cell_type": "code",
   "execution_count": 189,
   "id": "6272d348",
   "metadata": {},
   "outputs": [
    {
     "data": {
      "text/plain": [
       "-0.003067953303990567"
      ]
     },
     "execution_count": 189,
     "metadata": {},
     "output_type": "execute_result"
    }
   ],
   "source": [
    "df_1h_magnify['capital_list'][-1]/1000-1"
   ]
  },
  {
   "cell_type": "code",
   "execution_count": 190,
   "id": "a67ee152",
   "metadata": {},
   "outputs": [
    {
     "data": {
      "text/plain": [
       "0.043586316850718676"
      ]
     },
     "execution_count": 190,
     "metadata": {},
     "output_type": "execute_result"
    }
   ],
   "source": [
    "df_1h_magnify['close'][-1]/df_1h_magnify['close'][0] -1"
   ]
  },
  {
   "cell_type": "code",
   "execution_count": 191,
   "id": "25feea00",
   "metadata": {},
   "outputs": [
    {
     "data": {
      "text/plain": [
       "[<matplotlib.lines.Line2D at 0x3a12bb250>]"
      ]
     },
     "execution_count": 191,
     "metadata": {},
     "output_type": "execute_result"
    },
    {
     "data": {
      "image/png": "[encoded data removed]",
      "text/plain": [
       "<Figure size 640x480 with 1 Axes>"
      ]
     },
     "metadata": {},
     "output_type": "display_data"
    }
   ],
   "source": [
    "plt.plot(df_1h_magnify.index,df_1h_magnify['capital_list'])"
   ]
  },
  {
   "cell_type": "code",
   "execution_count": 166,
   "id": "725b2013",
   "metadata": {},
   "outputs": [
    {
     "data": {
      "text/html": [
       "<div>\n",
       "<style scoped>\n",
       "    .dataframe tbody tr th:only-of-type {\n",
       "        vertical-align: middle;\n",
       "    }\n",
       "\n",
       "    .dataframe tbody tr th {\n",
       "        vertical-align: top;\n",
       "    }\n",
       "\n",
       "    .dataframe thead th {\n",
       "        text-align: right;\n",
       "    }\n",
       "</style>\n",
       "<table border=\"1\" class=\"dataframe\">\n",
       "  <thead>\n",
       "    <tr style=\"text-align: right;\">\n",
       "      <th></th>\n",
       "      <th>close</th>\n",
       "      <th>actual_close_in1h</th>\n",
       "      <th>predicted_close_in1h</th>\n",
       "      <th>true_updown_in1h</th>\n",
       "      <th>predict_updown_in1h</th>\n",
       "      <th>direction_same</th>\n",
       "      <th>predict_change_rate</th>\n",
       "      <th>capital</th>\n",
       "      <th>capital_list</th>\n",
       "      <th>stock_returns</th>\n",
       "      <th>capital_returns</th>\n",
       "      <th>cumulative_return_stock</th>\n",
       "      <th>cumulative_return_strategy</th>\n",
       "    </tr>\n",
       "    <tr>\n",
       "      <th>Date</th>\n",
       "      <th></th>\n",
       "      <th></th>\n",
       "      <th></th>\n",
       "      <th></th>\n",
       "      <th></th>\n",
       "      <th></th>\n",
       "      <th></th>\n",
       "      <th></th>\n",
       "      <th></th>\n",
       "      <th></th>\n",
       "      <th></th>\n",
       "      <th></th>\n",
       "      <th></th>\n",
       "    </tr>\n",
       "  </thead>\n",
       "  <tbody>\n",
       "    <tr>\n",
       "      <th>2024-02-20 19:20:00</th>\n",
       "      <td>426.5100</td>\n",
       "      <td>426.3200</td>\n",
       "      <td>426.641510</td>\n",
       "      <td>-0.000445</td>\n",
       "      <td>0.000308</td>\n",
       "      <td>False</td>\n",
       "      <td>0.000308</td>\n",
       "      <td>900.000000</td>\n",
       "      <td>900.000000</td>\n",
       "      <td>0.000000</td>\n",
       "      <td>0.000000</td>\n",
       "      <td>0.000000</td>\n",
       "      <td>0.000000</td>\n",
       "    </tr>\n",
       "    <tr>\n",
       "      <th>2024-02-20 19:25:00</th>\n",
       "      <td>426.4799</td>\n",
       "      <td>426.5100</td>\n",
       "      <td>426.692963</td>\n",
       "      <td>0.000071</td>\n",
       "      <td>0.000500</td>\n",
       "      <td>True</td>\n",
       "      <td>0.000500</td>\n",
       "      <td>900.000000</td>\n",
       "      <td>900.000000</td>\n",
       "      <td>-0.000071</td>\n",
       "      <td>0.000000</td>\n",
       "      <td>-0.000071</td>\n",
       "      <td>0.000000</td>\n",
       "    </tr>\n",
       "    <tr>\n",
       "      <th>2024-02-20 19:30:00</th>\n",
       "      <td>426.3400</td>\n",
       "      <td>426.4799</td>\n",
       "      <td>426.745758</td>\n",
       "      <td>0.000328</td>\n",
       "      <td>0.000952</td>\n",
       "      <td>True</td>\n",
       "      <td>0.000952</td>\n",
       "      <td>900.000000</td>\n",
       "      <td>900.000000</td>\n",
       "      <td>-0.000399</td>\n",
       "      <td>0.000000</td>\n",
       "      <td>-0.000399</td>\n",
       "      <td>0.000000</td>\n",
       "    </tr>\n",
       "    <tr>\n",
       "      <th>2024-02-20 19:35:00</th>\n",
       "      <td>426.3000</td>\n",
       "      <td>426.3400</td>\n",
       "      <td>426.704193</td>\n",
       "      <td>0.000094</td>\n",
       "      <td>0.000948</td>\n",
       "      <td>True</td>\n",
       "      <td>0.000948</td>\n",
       "      <td>900.000000</td>\n",
       "      <td>900.000000</td>\n",
       "      <td>-0.000492</td>\n",
       "      <td>0.000000</td>\n",
       "      <td>-0.000492</td>\n",
       "      <td>0.000000</td>\n",
       "    </tr>\n",
       "    <tr>\n",
       "      <th>2024-02-20 19:40:00</th>\n",
       "      <td>426.2800</td>\n",
       "      <td>426.3000</td>\n",
       "      <td>426.586609</td>\n",
       "      <td>0.000047</td>\n",
       "      <td>0.000719</td>\n",
       "      <td>True</td>\n",
       "      <td>0.000719</td>\n",
       "      <td>900.000000</td>\n",
       "      <td>900.000000</td>\n",
       "      <td>-0.000539</td>\n",
       "      <td>0.000000</td>\n",
       "      <td>-0.000539</td>\n",
       "      <td>0.000000</td>\n",
       "    </tr>\n",
       "    <tr>\n",
       "      <th>...</th>\n",
       "      <td>...</td>\n",
       "      <td>...</td>\n",
       "      <td>...</td>\n",
       "      <td>...</td>\n",
       "      <td>...</td>\n",
       "      <td>...</td>\n",
       "      <td>...</td>\n",
       "      <td>...</td>\n",
       "      <td>...</td>\n",
       "      <td>...</td>\n",
       "      <td>...</td>\n",
       "      <td>...</td>\n",
       "      <td>...</td>\n",
       "    </tr>\n",
       "    <tr>\n",
       "      <th>2024-03-01 19:35:00</th>\n",
       "      <td>445.3900</td>\n",
       "      <td>445.4000</td>\n",
       "      <td>443.571808</td>\n",
       "      <td>0.000022</td>\n",
       "      <td>-0.004082</td>\n",
       "      <td>False</td>\n",
       "      <td>-0.004082</td>\n",
       "      <td>1096.625738</td>\n",
       "      <td>1096.625738</td>\n",
       "      <td>0.043590</td>\n",
       "      <td>2.145845</td>\n",
       "      <td>0.043590</td>\n",
       "      <td>2.145845</td>\n",
       "    </tr>\n",
       "    <tr>\n",
       "      <th>2024-03-01 19:40:00</th>\n",
       "      <td>445.4000</td>\n",
       "      <td>445.3900</td>\n",
       "      <td>443.600861</td>\n",
       "      <td>-0.000022</td>\n",
       "      <td>-0.004039</td>\n",
       "      <td>True</td>\n",
       "      <td>-0.004039</td>\n",
       "      <td>1096.625738</td>\n",
       "      <td>1096.625738</td>\n",
       "      <td>0.043613</td>\n",
       "      <td>2.145845</td>\n",
       "      <td>0.043613</td>\n",
       "      <td>2.145845</td>\n",
       "    </tr>\n",
       "    <tr>\n",
       "      <th>2024-03-01 19:45:00</th>\n",
       "      <td>445.3500</td>\n",
       "      <td>445.4000</td>\n",
       "      <td>443.504364</td>\n",
       "      <td>0.000112</td>\n",
       "      <td>-0.004144</td>\n",
       "      <td>False</td>\n",
       "      <td>-0.004144</td>\n",
       "      <td>1096.625738</td>\n",
       "      <td>1096.625738</td>\n",
       "      <td>0.043501</td>\n",
       "      <td>2.145845</td>\n",
       "      <td>0.043501</td>\n",
       "      <td>2.145845</td>\n",
       "    </tr>\n",
       "    <tr>\n",
       "      <th>2024-03-01 19:50:00</th>\n",
       "      <td>445.3000</td>\n",
       "      <td>445.3500</td>\n",
       "      <td>443.488861</td>\n",
       "      <td>0.000112</td>\n",
       "      <td>-0.004067</td>\n",
       "      <td>False</td>\n",
       "      <td>-0.004067</td>\n",
       "      <td>1096.625738</td>\n",
       "      <td>1096.625738</td>\n",
       "      <td>0.043388</td>\n",
       "      <td>2.145845</td>\n",
       "      <td>0.043388</td>\n",
       "      <td>2.145845</td>\n",
       "    </tr>\n",
       "    <tr>\n",
       "      <th>2024-03-01 19:55:00</th>\n",
       "      <td>445.1000</td>\n",
       "      <td>445.3000</td>\n",
       "      <td>443.641235</td>\n",
       "      <td>0.000449</td>\n",
       "      <td>-0.003277</td>\n",
       "      <td>False</td>\n",
       "      <td>-0.003277</td>\n",
       "      <td>1096.625738</td>\n",
       "      <td>1096.625738</td>\n",
       "      <td>0.042939</td>\n",
       "      <td>2.145845</td>\n",
       "      <td>0.042939</td>\n",
       "      <td>2.145845</td>\n",
       "    </tr>\n",
       "  </tbody>\n",
       "</table>\n",
       "<p>1535 rows × 13 columns</p>\n",
       "</div>"
      ],
      "text/plain": [
       "                        close  actual_close_in1h  predicted_close_in1h  \\\n",
       "Date                                                                     \n",
       "2024-02-20 19:20:00  426.5100           426.3200            426.641510   \n",
       "2024-02-20 19:25:00  426.4799           426.5100            426.692963   \n",
       "2024-02-20 19:30:00  426.3400           426.4799            426.745758   \n",
       "2024-02-20 19:35:00  426.3000           426.3400            426.704193   \n",
       "2024-02-20 19:40:00  426.2800           426.3000            426.586609   \n",
       "...                       ...                ...                   ...   \n",
       "2024-03-01 19:35:00  445.3900           445.4000            443.571808   \n",
       "2024-03-01 19:40:00  445.4000           445.3900            443.600861   \n",
       "2024-03-01 19:45:00  445.3500           445.4000            443.504364   \n",
       "2024-03-01 19:50:00  445.3000           445.3500            443.488861   \n",
       "2024-03-01 19:55:00  445.1000           445.3000            443.641235   \n",
       "\n",
       "                     true_updown_in1h  predict_updown_in1h  direction_same  \\\n",
       "Date                                                                         \n",
       "2024-02-20 19:20:00         -0.000445             0.000308           False   \n",
       "2024-02-20 19:25:00          0.000071             0.000500            True   \n",
       "2024-02-20 19:30:00          0.000328             0.000952            True   \n",
       "2024-02-20 19:35:00          0.000094             0.000948            True   \n",
       "2024-02-20 19:40:00          0.000047             0.000719            True   \n",
       "...                               ...                  ...             ...   \n",
       "2024-03-01 19:35:00          0.000022            -0.004082           False   \n",
       "2024-03-01 19:40:00         -0.000022            -0.004039            True   \n",
       "2024-03-01 19:45:00          0.000112            -0.004144           False   \n",
       "2024-03-01 19:50:00          0.000112            -0.004067           False   \n",
       "2024-03-01 19:55:00          0.000449            -0.003277           False   \n",
       "\n",
       "                     predict_change_rate      capital  capital_list  \\\n",
       "Date                                                                  \n",
       "2024-02-20 19:20:00             0.000308   900.000000    900.000000   \n",
       "2024-02-20 19:25:00             0.000500   900.000000    900.000000   \n",
       "2024-02-20 19:30:00             0.000952   900.000000    900.000000   \n",
       "2024-02-20 19:35:00             0.000948   900.000000    900.000000   \n",
       "2024-02-20 19:40:00             0.000719   900.000000    900.000000   \n",
       "...                                  ...          ...           ...   \n",
       "2024-03-01 19:35:00            -0.004082  1096.625738   1096.625738   \n",
       "2024-03-01 19:40:00            -0.004039  1096.625738   1096.625738   \n",
       "2024-03-01 19:45:00            -0.004144  1096.625738   1096.625738   \n",
       "2024-03-01 19:50:00            -0.004067  1096.625738   1096.625738   \n",
       "2024-03-01 19:55:00            -0.003277  1096.625738   1096.625738   \n",
       "\n",
       "                     stock_returns  capital_returns  cumulative_return_stock  \\\n",
       "Date                                                                           \n",
       "2024-02-20 19:20:00       0.000000         0.000000                 0.000000   \n",
       "2024-02-20 19:25:00      -0.000071         0.000000                -0.000071   \n",
       "2024-02-20 19:30:00      -0.000399         0.000000                -0.000399   \n",
       "2024-02-20 19:35:00      -0.000492         0.000000                -0.000492   \n",
       "2024-02-20 19:40:00      -0.000539         0.000000                -0.000539   \n",
       "...                            ...              ...                      ...   \n",
       "2024-03-01 19:35:00       0.043590         2.145845                 0.043590   \n",
       "2024-03-01 19:40:00       0.043613         2.145845                 0.043613   \n",
       "2024-03-01 19:45:00       0.043501         2.145845                 0.043501   \n",
       "2024-03-01 19:50:00       0.043388         2.145845                 0.043388   \n",
       "2024-03-01 19:55:00       0.042939         2.145845                 0.042939   \n",
       "\n",
       "                     cumulative_return_strategy  \n",
       "Date                                             \n",
       "2024-02-20 19:20:00                    0.000000  \n",
       "2024-02-20 19:25:00                    0.000000  \n",
       "2024-02-20 19:30:00                    0.000000  \n",
       "2024-02-20 19:35:00                    0.000000  \n",
       "2024-02-20 19:40:00                    0.000000  \n",
       "...                                         ...  \n",
       "2024-03-01 19:35:00                    2.145845  \n",
       "2024-03-01 19:40:00                    2.145845  \n",
       "2024-03-01 19:45:00                    2.145845  \n",
       "2024-03-01 19:50:00                    2.145845  \n",
       "2024-03-01 19:55:00                    2.145845  \n",
       "\n",
       "[1535 rows x 13 columns]"
      ]
     },
     "execution_count": 166,
     "metadata": {},
     "output_type": "execute_result"
    }
   ],
   "source": [
    "df_1h_magnify"
   ]
  },
  {
   "cell_type": "code",
   "execution_count": null,
   "id": "81552b61",
   "metadata": {},
   "outputs": [],
   "source": []
  }
 ],
 "metadata": {
  "kernelspec": {
   "display_name": "Python 3 (ipykernel)",
   "language": "python",
   "name": "python3"
  },
  "language_info": {
   "codemirror_mode": {
    "name": "ipython",
    "version": 3
   },
   "file_extension": ".py",
   "mimetype": "text/x-python",
   "name": "python",
   "nbconvert_exporter": "python",
   "pygments_lexer": "ipython3",
   "version": "3.11.5"
  }
 },
 "nbformat": 4,
 "nbformat_minor": 5
}
