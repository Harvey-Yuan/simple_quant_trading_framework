{
 "cells": [
  {
   "cell_type": "code",
   "execution_count": null,
   "metadata": {},
   "outputs": [],
   "source": [
    "# backtest_script.py\n",
    "from backtesting import Backtest, Strategy\n",
    "import script  # 导入 script.py 中的内容\n",
    "import os\n",
    "\n",
    "class PredictiveStrategy(Strategy):\n",
    "    def init(self):\n",
    "        \n",
    "        filepath = os.path.join(script.current_dir, 'model/20240325_baddest_model.h5')\n",
    "        self.model = script.load_model(filepath)\n",
    "        components_path = os.path.join(script.current_dir, 'model/20240325_baddest_model.pkl')\n",
    "        components_dict = script.joblib.load(components_path)\n",
    "        self.scaler_features = components_dict['scaler_features']\n",
    "        self.scaler_label = components_dict['scaler_label']\n",
    "\n",
    "    def next(self):\n",
    "        # 获取数据并进行预测\n",
    "        df = self.data.df.iloc[:self.data.df.index.get_loc(self.data.index[-1]) + 1]  # 回测只使用当前可用数据\n",
    "        predict_price = script.predict(df, self.scaler_features, self.scaler_label, self.model, time_step=16)\n",
    "        \n",
    "        current_close_price = self.data.Close[-1]\n",
    "        predict_change_rate = predict_price / current_close_price - 1\n",
    "\n",
    "        # 执行交易策略并获取信号\n",
    "        state = script.execute_trading_strategy(predict_change_rate)\n",
    "        \n",
    "        if state['trade_signals'] == 1:\n",
    "            self.buy()\n",
    "        elif state['trade_signals'] == -1:\n",
    "            self.sell()\n",
    "\n",
    "# 运行回测\n",
    "import yfinance as yf\n",
    "data = yf.download('QQQ', start='2023-01-01', end='2023-12-31', interval='1h')\n",
    "\n",
    "bt = Backtest(data, PredictiveStrategy, cash=50000, commission=.002)\n",
    "stats = bt.run()\n",
    "bt.plot()\n"
   ]
  }
 ],
 "metadata": {
  "language_info": {
   "name": "python"
  }
 },
 "nbformat": 4,
 "nbformat_minor": 2
}
